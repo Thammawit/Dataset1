{
  "nbformat": 4,
  "nbformat_minor": 0,
  "metadata": {
    "colab": {
      "name": "Time-series Data: Part 1.ipynb",
      "provenance": [],
      "collapsed_sections": [],
      "toc_visible": true,
      "mount_file_id": "1WnS2fwj7YquWGj_rL_J-HoGp3XnraQdI",
      "authorship_tag": "ABX9TyOMauTGrCGILnTOOOFtlhJR",
      "include_colab_link": true
    },
    "kernelspec": {
      "name": "python3",
      "display_name": "Python 3"
    },
    "language_info": {
      "name": "python"
    }
  },
  "cells": [
    {
      "cell_type": "markdown",
      "metadata": {
        "id": "view-in-github",
        "colab_type": "text"
      },
      "source": [
        "<a href=\"https://colab.research.google.com/github/Thammawit/Dataset1/blob/master/Time_series_Data_Part_1.ipynb\" target=\"_parent\"><img src=\"https://colab.research.google.com/assets/colab-badge.svg\" alt=\"Open In Colab\"/></a>"
      ]
    },
    {
      "cell_type": "markdown",
      "source": [
        "# **Working with Time-series Data: Part I**\n",
        "**Prepared by: Thammawit Prasert**\n",
        "\n",
        "\n",
        "Created: January 27, 2021 \n",
        "\n",
        "Python is powerful to handle time series data. In this tutorial, we will learn:\n",
        "\n",
        "*   how to import time-series data\n",
        "*   how to deal with missing time-series data\n",
        "*   how to filter a selected time range\n",
        "*   how to visualize time-series data\n",
        "*   how to resample time-series data\n",
        "*   how to filter specific hours for plotting\n",
        "\n",
        "In this tutorial, we will work with temperature, humidity and ambient light data from CU-BEMS. The data is from a multi-sensor, recorded in one-minute intervals from July 1, 2018 to June 30, 2019."
      ],
      "metadata": {
        "id": "q0Zh-lwww-KP"
      }
    },
    {
      "cell_type": "markdown",
      "source": [
        "# **1. Import Libraries and Load Time-series Data**"
      ],
      "metadata": {
        "id": "LiMNqL5ix3kQ"
      }
    },
    {
      "cell_type": "code",
      "source": [
        "import numpy as np\n",
        "import pandas as pd\n",
        "import seaborn as sns\n",
        "import datetime as dt\n",
        "import matplotlib.pyplot as plt"
      ],
      "metadata": {
        "id": "p0lSY9p5x1Jd"
      },
      "execution_count": null,
      "outputs": []
    },
    {
      "cell_type": "code",
      "source": [
        "# Download the file 7,8,9.csv (humidity,illuminane,temperature data) from my Github to co-lab\n",
        "!wget -O 7.csv https://raw.githubusercontent.com/mpipatta/mpipatta.github.io/master/testdata/7.csv> /dev/null 2>&1\n",
        "!wget -O 8.csv https://raw.githubusercontent.com/mpipatta/mpipatta.github.io/master/testdata/8.csv> /dev/null 2>&1\n",
        "!wget -O 9.csv https://raw.githubusercontent.com/mpipatta/mpipatta.github.io/master/testdata/9.csv> /dev/null 2>&1\n",
        "# Explanation of /dev/null 2>&1 can be found here: https://stackoverflow.com/questions/10508843/what-is-dev-null-21"
      ],
      "metadata": {
        "id": "C9JpARecyM5V"
      },
      "execution_count": null,
      "outputs": []
    },
    {
      "cell_type": "code",
      "source": [
        "# Read the data into dataframe, identify that there is no header, and assign column names\n",
        "dfH = pd.read_csv('7.csv', header=None, names=['Date','Humidity'])\n",
        "dfI = pd.read_csv('8.csv', header=None, names=['Date','Illuminance'])\n",
        "dfT = pd.read_csv('9.csv', header=None, names=['Date','Temperature'])"
      ],
      "metadata": {
        "id": "A0rCyhnmyzQB"
      },
      "execution_count": null,
      "outputs": []
    },
    {
      "cell_type": "code",
      "source": [
        "# Check one of the dataframes\n",
        "dfH.head()"
      ],
      "metadata": {
        "colab": {
          "base_uri": "https://localhost:8080/",
          "height": 206
        },
        "id": "CAWedPVbzY8i",
        "outputId": "27fdf482-335b-455c-9ed0-8d239be98319"
      },
      "execution_count": null,
      "outputs": [
        {
          "output_type": "execute_result",
          "data": {
            "text/html": [
              "\n",
              "  <div id=\"df-9ee13e61-c7fb-4153-b77a-edd97e60a8b2\">\n",
              "    <div class=\"colab-df-container\">\n",
              "      <div>\n",
              "<style scoped>\n",
              "    .dataframe tbody tr th:only-of-type {\n",
              "        vertical-align: middle;\n",
              "    }\n",
              "\n",
              "    .dataframe tbody tr th {\n",
              "        vertical-align: top;\n",
              "    }\n",
              "\n",
              "    .dataframe thead th {\n",
              "        text-align: right;\n",
              "    }\n",
              "</style>\n",
              "<table border=\"1\" class=\"dataframe\">\n",
              "  <thead>\n",
              "    <tr style=\"text-align: right;\">\n",
              "      <th></th>\n",
              "      <th>Date</th>\n",
              "      <th>Humidity</th>\n",
              "    </tr>\n",
              "  </thead>\n",
              "  <tbody>\n",
              "    <tr>\n",
              "      <th>0</th>\n",
              "      <td>2018-07-01 00:00:45+07</td>\n",
              "      <td>64.89</td>\n",
              "    </tr>\n",
              "    <tr>\n",
              "      <th>1</th>\n",
              "      <td>2018-07-01 00:01:45+07</td>\n",
              "      <td>64.89</td>\n",
              "    </tr>\n",
              "    <tr>\n",
              "      <th>2</th>\n",
              "      <td>2018-07-01 00:02:45+07</td>\n",
              "      <td>64.89</td>\n",
              "    </tr>\n",
              "    <tr>\n",
              "      <th>3</th>\n",
              "      <td>2018-07-01 00:03:45+07</td>\n",
              "      <td>64.89</td>\n",
              "    </tr>\n",
              "    <tr>\n",
              "      <th>4</th>\n",
              "      <td>2018-07-01 00:04:45+07</td>\n",
              "      <td>64.90</td>\n",
              "    </tr>\n",
              "  </tbody>\n",
              "</table>\n",
              "</div>\n",
              "      <button class=\"colab-df-convert\" onclick=\"convertToInteractive('df-9ee13e61-c7fb-4153-b77a-edd97e60a8b2')\"\n",
              "              title=\"Convert this dataframe to an interactive table.\"\n",
              "              style=\"display:none;\">\n",
              "        \n",
              "  <svg xmlns=\"http://www.w3.org/2000/svg\" height=\"24px\"viewBox=\"0 0 24 24\"\n",
              "       width=\"24px\">\n",
              "    <path d=\"M0 0h24v24H0V0z\" fill=\"none\"/>\n",
              "    <path d=\"M18.56 5.44l.94 2.06.94-2.06 2.06-.94-2.06-.94-.94-2.06-.94 2.06-2.06.94zm-11 1L8.5 8.5l.94-2.06 2.06-.94-2.06-.94L8.5 2.5l-.94 2.06-2.06.94zm10 10l.94 2.06.94-2.06 2.06-.94-2.06-.94-.94-2.06-.94 2.06-2.06.94z\"/><path d=\"M17.41 7.96l-1.37-1.37c-.4-.4-.92-.59-1.43-.59-.52 0-1.04.2-1.43.59L10.3 9.45l-7.72 7.72c-.78.78-.78 2.05 0 2.83L4 21.41c.39.39.9.59 1.41.59.51 0 1.02-.2 1.41-.59l7.78-7.78 2.81-2.81c.8-.78.8-2.07 0-2.86zM5.41 20L4 18.59l7.72-7.72 1.47 1.35L5.41 20z\"/>\n",
              "  </svg>\n",
              "      </button>\n",
              "      \n",
              "  <style>\n",
              "    .colab-df-container {\n",
              "      display:flex;\n",
              "      flex-wrap:wrap;\n",
              "      gap: 12px;\n",
              "    }\n",
              "\n",
              "    .colab-df-convert {\n",
              "      background-color: #E8F0FE;\n",
              "      border: none;\n",
              "      border-radius: 50%;\n",
              "      cursor: pointer;\n",
              "      display: none;\n",
              "      fill: #1967D2;\n",
              "      height: 32px;\n",
              "      padding: 0 0 0 0;\n",
              "      width: 32px;\n",
              "    }\n",
              "\n",
              "    .colab-df-convert:hover {\n",
              "      background-color: #E2EBFA;\n",
              "      box-shadow: 0px 1px 2px rgba(60, 64, 67, 0.3), 0px 1px 3px 1px rgba(60, 64, 67, 0.15);\n",
              "      fill: #174EA6;\n",
              "    }\n",
              "\n",
              "    [theme=dark] .colab-df-convert {\n",
              "      background-color: #3B4455;\n",
              "      fill: #D2E3FC;\n",
              "    }\n",
              "\n",
              "    [theme=dark] .colab-df-convert:hover {\n",
              "      background-color: #434B5C;\n",
              "      box-shadow: 0px 1px 3px 1px rgba(0, 0, 0, 0.15);\n",
              "      filter: drop-shadow(0px 1px 2px rgba(0, 0, 0, 0.3));\n",
              "      fill: #FFFFFF;\n",
              "    }\n",
              "  </style>\n",
              "\n",
              "      <script>\n",
              "        const buttonEl =\n",
              "          document.querySelector('#df-9ee13e61-c7fb-4153-b77a-edd97e60a8b2 button.colab-df-convert');\n",
              "        buttonEl.style.display =\n",
              "          google.colab.kernel.accessAllowed ? 'block' : 'none';\n",
              "\n",
              "        async function convertToInteractive(key) {\n",
              "          const element = document.querySelector('#df-9ee13e61-c7fb-4153-b77a-edd97e60a8b2');\n",
              "          const dataTable =\n",
              "            await google.colab.kernel.invokeFunction('convertToInteractive',\n",
              "                                                     [key], {});\n",
              "          if (!dataTable) return;\n",
              "\n",
              "          const docLinkHtml = 'Like what you see? Visit the ' +\n",
              "            '<a target=\"_blank\" href=https://colab.research.google.com/notebooks/data_table.ipynb>data table notebook</a>'\n",
              "            + ' to learn more about interactive tables.';\n",
              "          element.innerHTML = '';\n",
              "          dataTable['output_type'] = 'display_data';\n",
              "          await google.colab.output.renderOutput(dataTable, element);\n",
              "          const docLink = document.createElement('div');\n",
              "          docLink.innerHTML = docLinkHtml;\n",
              "          element.appendChild(docLink);\n",
              "        }\n",
              "      </script>\n",
              "    </div>\n",
              "  </div>\n",
              "  "
            ],
            "text/plain": [
              "                     Date  Humidity\n",
              "0  2018-07-01 00:00:45+07     64.89\n",
              "1  2018-07-01 00:01:45+07     64.89\n",
              "2  2018-07-01 00:02:45+07     64.89\n",
              "3  2018-07-01 00:03:45+07     64.89\n",
              "4  2018-07-01 00:04:45+07     64.90"
            ]
          },
          "metadata": {},
          "execution_count": 4
        }
      ]
    },
    {
      "cell_type": "code",
      "source": [
        "# Check dataframe info. \n",
        "# Notice that the 'Date' column is non-null object.\n",
        "# Also notice that each file has different number of rows (entries).\n",
        "print('.....humidity.....')\n",
        "print(dfH.info())\n",
        "print('.....illuminance.....')\n",
        "print(dfI.info())\n",
        "print('.....temperature.....')\n",
        "print(dfT.info())"
      ],
      "metadata": {
        "colab": {
          "base_uri": "https://localhost:8080/"
        },
        "id": "qWyK0SQ-zdV6",
        "outputId": "c016b13e-e96a-4379-a493-10782088573a"
      },
      "execution_count": null,
      "outputs": [
        {
          "output_type": "stream",
          "name": "stdout",
          "text": [
            ".....humidity.....\n",
            "<class 'pandas.core.frame.DataFrame'>\n",
            "RangeIndex: 294647 entries, 0 to 294646\n",
            "Data columns (total 2 columns):\n",
            " #   Column    Non-Null Count   Dtype  \n",
            "---  ------    --------------   -----  \n",
            " 0   Date      294647 non-null  object \n",
            " 1   Humidity  294647 non-null  float64\n",
            "dtypes: float64(1), object(1)\n",
            "memory usage: 4.5+ MB\n",
            "None\n",
            ".....illuminance.....\n",
            "<class 'pandas.core.frame.DataFrame'>\n",
            "RangeIndex: 294647 entries, 0 to 294646\n",
            "Data columns (total 2 columns):\n",
            " #   Column       Non-Null Count   Dtype \n",
            "---  ------       --------------   ----- \n",
            " 0   Date         294647 non-null  object\n",
            " 1   Illuminance  294647 non-null  int64 \n",
            "dtypes: int64(1), object(1)\n",
            "memory usage: 4.5+ MB\n",
            "None\n",
            ".....temperature.....\n",
            "<class 'pandas.core.frame.DataFrame'>\n",
            "RangeIndex: 294647 entries, 0 to 294646\n",
            "Data columns (total 2 columns):\n",
            " #   Column       Non-Null Count   Dtype  \n",
            "---  ------       --------------   -----  \n",
            " 0   Date         294647 non-null  object \n",
            " 1   Temperature  294647 non-null  float64\n",
            "dtypes: float64(1), object(1)\n",
            "memory usage: 4.5+ MB\n",
            "None\n"
          ]
        }
      ]
    },
    {
      "cell_type": "code",
      "source": [
        "# Now, we will convert the 'Date' column into the date-time format\n",
        "# +07 is to handle timezone\n",
        "# Notice that the 'Date' column has now changed to the datetime64\n",
        "dfH['Date']=pd.to_datetime(dfH['Date'],format=\"%Y-%m-%d %H:%M:%S+07\")\n",
        "dfI['Date']=pd.to_datetime(dfI['Date'],format=\"%Y-%m-%d %H:%M:%S+07\")\n",
        "dfT['Date']=pd.to_datetime(dfT['Date'],format=\"%Y-%m-%d %H:%M:%S+07\")\n",
        "\n",
        "print('.....humidity.....')\n",
        "print(dfH.info())\n",
        "print('.....illuminance.....')\n",
        "print(dfI.info())\n",
        "print('.....temperature.....')\n",
        "print(dfT.info())"
      ],
      "metadata": {
        "colab": {
          "base_uri": "https://localhost:8080/"
        },
        "id": "cMvlDvVoz0iK",
        "outputId": "170a3107-0f32-420d-b390-8ea7f363cb59"
      },
      "execution_count": null,
      "outputs": [
        {
          "output_type": "stream",
          "name": "stdout",
          "text": [
            ".....humidity.....\n",
            "<class 'pandas.core.frame.DataFrame'>\n",
            "RangeIndex: 294647 entries, 0 to 294646\n",
            "Data columns (total 2 columns):\n",
            " #   Column    Non-Null Count   Dtype         \n",
            "---  ------    --------------   -----         \n",
            " 0   Date      294647 non-null  datetime64[ns]\n",
            " 1   Humidity  294647 non-null  float64       \n",
            "dtypes: datetime64[ns](1), float64(1)\n",
            "memory usage: 4.5 MB\n",
            "None\n",
            ".....illuminance.....\n",
            "<class 'pandas.core.frame.DataFrame'>\n",
            "RangeIndex: 294647 entries, 0 to 294646\n",
            "Data columns (total 2 columns):\n",
            " #   Column       Non-Null Count   Dtype         \n",
            "---  ------       --------------   -----         \n",
            " 0   Date         294647 non-null  datetime64[ns]\n",
            " 1   Illuminance  294647 non-null  int64         \n",
            "dtypes: datetime64[ns](1), int64(1)\n",
            "memory usage: 4.5 MB\n",
            "None\n",
            ".....temperature.....\n",
            "<class 'pandas.core.frame.DataFrame'>\n",
            "RangeIndex: 294647 entries, 0 to 294646\n",
            "Data columns (total 2 columns):\n",
            " #   Column       Non-Null Count   Dtype         \n",
            "---  ------       --------------   -----         \n",
            " 0   Date         294647 non-null  datetime64[ns]\n",
            " 1   Temperature  294647 non-null  float64       \n",
            "dtypes: datetime64[ns](1), float64(1)\n",
            "memory usage: 4.5 MB\n",
            "None\n"
          ]
        }
      ]
    },
    {
      "cell_type": "code",
      "source": [
        "# Check to see how it looks like\n",
        "dfH.head()"
      ],
      "metadata": {
        "colab": {
          "base_uri": "https://localhost:8080/",
          "height": 206
        },
        "id": "_HtPyPLh0eDa",
        "outputId": "b49eb681-a619-4b08-8ef4-978c66e19d59"
      },
      "execution_count": null,
      "outputs": [
        {
          "output_type": "execute_result",
          "data": {
            "text/html": [
              "\n",
              "  <div id=\"df-e64fdc19-0bec-4b52-8e98-be4eb9552793\">\n",
              "    <div class=\"colab-df-container\">\n",
              "      <div>\n",
              "<style scoped>\n",
              "    .dataframe tbody tr th:only-of-type {\n",
              "        vertical-align: middle;\n",
              "    }\n",
              "\n",
              "    .dataframe tbody tr th {\n",
              "        vertical-align: top;\n",
              "    }\n",
              "\n",
              "    .dataframe thead th {\n",
              "        text-align: right;\n",
              "    }\n",
              "</style>\n",
              "<table border=\"1\" class=\"dataframe\">\n",
              "  <thead>\n",
              "    <tr style=\"text-align: right;\">\n",
              "      <th></th>\n",
              "      <th>Date</th>\n",
              "      <th>Humidity</th>\n",
              "    </tr>\n",
              "  </thead>\n",
              "  <tbody>\n",
              "    <tr>\n",
              "      <th>0</th>\n",
              "      <td>2018-07-01 00:00:45</td>\n",
              "      <td>64.89</td>\n",
              "    </tr>\n",
              "    <tr>\n",
              "      <th>1</th>\n",
              "      <td>2018-07-01 00:01:45</td>\n",
              "      <td>64.89</td>\n",
              "    </tr>\n",
              "    <tr>\n",
              "      <th>2</th>\n",
              "      <td>2018-07-01 00:02:45</td>\n",
              "      <td>64.89</td>\n",
              "    </tr>\n",
              "    <tr>\n",
              "      <th>3</th>\n",
              "      <td>2018-07-01 00:03:45</td>\n",
              "      <td>64.89</td>\n",
              "    </tr>\n",
              "    <tr>\n",
              "      <th>4</th>\n",
              "      <td>2018-07-01 00:04:45</td>\n",
              "      <td>64.90</td>\n",
              "    </tr>\n",
              "  </tbody>\n",
              "</table>\n",
              "</div>\n",
              "      <button class=\"colab-df-convert\" onclick=\"convertToInteractive('df-e64fdc19-0bec-4b52-8e98-be4eb9552793')\"\n",
              "              title=\"Convert this dataframe to an interactive table.\"\n",
              "              style=\"display:none;\">\n",
              "        \n",
              "  <svg xmlns=\"http://www.w3.org/2000/svg\" height=\"24px\"viewBox=\"0 0 24 24\"\n",
              "       width=\"24px\">\n",
              "    <path d=\"M0 0h24v24H0V0z\" fill=\"none\"/>\n",
              "    <path d=\"M18.56 5.44l.94 2.06.94-2.06 2.06-.94-2.06-.94-.94-2.06-.94 2.06-2.06.94zm-11 1L8.5 8.5l.94-2.06 2.06-.94-2.06-.94L8.5 2.5l-.94 2.06-2.06.94zm10 10l.94 2.06.94-2.06 2.06-.94-2.06-.94-.94-2.06-.94 2.06-2.06.94z\"/><path d=\"M17.41 7.96l-1.37-1.37c-.4-.4-.92-.59-1.43-.59-.52 0-1.04.2-1.43.59L10.3 9.45l-7.72 7.72c-.78.78-.78 2.05 0 2.83L4 21.41c.39.39.9.59 1.41.59.51 0 1.02-.2 1.41-.59l7.78-7.78 2.81-2.81c.8-.78.8-2.07 0-2.86zM5.41 20L4 18.59l7.72-7.72 1.47 1.35L5.41 20z\"/>\n",
              "  </svg>\n",
              "      </button>\n",
              "      \n",
              "  <style>\n",
              "    .colab-df-container {\n",
              "      display:flex;\n",
              "      flex-wrap:wrap;\n",
              "      gap: 12px;\n",
              "    }\n",
              "\n",
              "    .colab-df-convert {\n",
              "      background-color: #E8F0FE;\n",
              "      border: none;\n",
              "      border-radius: 50%;\n",
              "      cursor: pointer;\n",
              "      display: none;\n",
              "      fill: #1967D2;\n",
              "      height: 32px;\n",
              "      padding: 0 0 0 0;\n",
              "      width: 32px;\n",
              "    }\n",
              "\n",
              "    .colab-df-convert:hover {\n",
              "      background-color: #E2EBFA;\n",
              "      box-shadow: 0px 1px 2px rgba(60, 64, 67, 0.3), 0px 1px 3px 1px rgba(60, 64, 67, 0.15);\n",
              "      fill: #174EA6;\n",
              "    }\n",
              "\n",
              "    [theme=dark] .colab-df-convert {\n",
              "      background-color: #3B4455;\n",
              "      fill: #D2E3FC;\n",
              "    }\n",
              "\n",
              "    [theme=dark] .colab-df-convert:hover {\n",
              "      background-color: #434B5C;\n",
              "      box-shadow: 0px 1px 3px 1px rgba(0, 0, 0, 0.15);\n",
              "      filter: drop-shadow(0px 1px 2px rgba(0, 0, 0, 0.3));\n",
              "      fill: #FFFFFF;\n",
              "    }\n",
              "  </style>\n",
              "\n",
              "      <script>\n",
              "        const buttonEl =\n",
              "          document.querySelector('#df-e64fdc19-0bec-4b52-8e98-be4eb9552793 button.colab-df-convert');\n",
              "        buttonEl.style.display =\n",
              "          google.colab.kernel.accessAllowed ? 'block' : 'none';\n",
              "\n",
              "        async function convertToInteractive(key) {\n",
              "          const element = document.querySelector('#df-e64fdc19-0bec-4b52-8e98-be4eb9552793');\n",
              "          const dataTable =\n",
              "            await google.colab.kernel.invokeFunction('convertToInteractive',\n",
              "                                                     [key], {});\n",
              "          if (!dataTable) return;\n",
              "\n",
              "          const docLinkHtml = 'Like what you see? Visit the ' +\n",
              "            '<a target=\"_blank\" href=https://colab.research.google.com/notebooks/data_table.ipynb>data table notebook</a>'\n",
              "            + ' to learn more about interactive tables.';\n",
              "          element.innerHTML = '';\n",
              "          dataTable['output_type'] = 'display_data';\n",
              "          await google.colab.output.renderOutput(dataTable, element);\n",
              "          const docLink = document.createElement('div');\n",
              "          docLink.innerHTML = docLinkHtml;\n",
              "          element.appendChild(docLink);\n",
              "        }\n",
              "      </script>\n",
              "    </div>\n",
              "  </div>\n",
              "  "
            ],
            "text/plain": [
              "                 Date  Humidity\n",
              "0 2018-07-01 00:00:45     64.89\n",
              "1 2018-07-01 00:01:45     64.89\n",
              "2 2018-07-01 00:02:45     64.89\n",
              "3 2018-07-01 00:03:45     64.89\n",
              "4 2018-07-01 00:04:45     64.90"
            ]
          },
          "metadata": {},
          "execution_count": 7
        }
      ]
    },
    {
      "cell_type": "code",
      "source": [
        "# We will round 'second' to 00. We will need this to handle missing time-series data\n",
        "dfH['Date']=dfH['Date'].dt.round('1min') \n",
        "dfI['Date']=dfI['Date'].dt.round('1min') \n",
        "dfT['Date']=dfT['Date'].dt.round('1min') \n",
        "# check one\n",
        "dfH.head() "
      ],
      "metadata": {
        "colab": {
          "base_uri": "https://localhost:8080/",
          "height": 206
        },
        "id": "Buf8PI7m02v7",
        "outputId": "8f52513d-504b-40f9-8c72-a7bcd480516a"
      },
      "execution_count": null,
      "outputs": [
        {
          "output_type": "execute_result",
          "data": {
            "text/html": [
              "\n",
              "  <div id=\"df-c61628d1-b71a-4712-a2c6-69f4b81160b3\">\n",
              "    <div class=\"colab-df-container\">\n",
              "      <div>\n",
              "<style scoped>\n",
              "    .dataframe tbody tr th:only-of-type {\n",
              "        vertical-align: middle;\n",
              "    }\n",
              "\n",
              "    .dataframe tbody tr th {\n",
              "        vertical-align: top;\n",
              "    }\n",
              "\n",
              "    .dataframe thead th {\n",
              "        text-align: right;\n",
              "    }\n",
              "</style>\n",
              "<table border=\"1\" class=\"dataframe\">\n",
              "  <thead>\n",
              "    <tr style=\"text-align: right;\">\n",
              "      <th></th>\n",
              "      <th>Date</th>\n",
              "      <th>Humidity</th>\n",
              "    </tr>\n",
              "  </thead>\n",
              "  <tbody>\n",
              "    <tr>\n",
              "      <th>0</th>\n",
              "      <td>2018-07-01 00:01:00</td>\n",
              "      <td>64.89</td>\n",
              "    </tr>\n",
              "    <tr>\n",
              "      <th>1</th>\n",
              "      <td>2018-07-01 00:02:00</td>\n",
              "      <td>64.89</td>\n",
              "    </tr>\n",
              "    <tr>\n",
              "      <th>2</th>\n",
              "      <td>2018-07-01 00:03:00</td>\n",
              "      <td>64.89</td>\n",
              "    </tr>\n",
              "    <tr>\n",
              "      <th>3</th>\n",
              "      <td>2018-07-01 00:04:00</td>\n",
              "      <td>64.89</td>\n",
              "    </tr>\n",
              "    <tr>\n",
              "      <th>4</th>\n",
              "      <td>2018-07-01 00:05:00</td>\n",
              "      <td>64.90</td>\n",
              "    </tr>\n",
              "  </tbody>\n",
              "</table>\n",
              "</div>\n",
              "      <button class=\"colab-df-convert\" onclick=\"convertToInteractive('df-c61628d1-b71a-4712-a2c6-69f4b81160b3')\"\n",
              "              title=\"Convert this dataframe to an interactive table.\"\n",
              "              style=\"display:none;\">\n",
              "        \n",
              "  <svg xmlns=\"http://www.w3.org/2000/svg\" height=\"24px\"viewBox=\"0 0 24 24\"\n",
              "       width=\"24px\">\n",
              "    <path d=\"M0 0h24v24H0V0z\" fill=\"none\"/>\n",
              "    <path d=\"M18.56 5.44l.94 2.06.94-2.06 2.06-.94-2.06-.94-.94-2.06-.94 2.06-2.06.94zm-11 1L8.5 8.5l.94-2.06 2.06-.94-2.06-.94L8.5 2.5l-.94 2.06-2.06.94zm10 10l.94 2.06.94-2.06 2.06-.94-2.06-.94-.94-2.06-.94 2.06-2.06.94z\"/><path d=\"M17.41 7.96l-1.37-1.37c-.4-.4-.92-.59-1.43-.59-.52 0-1.04.2-1.43.59L10.3 9.45l-7.72 7.72c-.78.78-.78 2.05 0 2.83L4 21.41c.39.39.9.59 1.41.59.51 0 1.02-.2 1.41-.59l7.78-7.78 2.81-2.81c.8-.78.8-2.07 0-2.86zM5.41 20L4 18.59l7.72-7.72 1.47 1.35L5.41 20z\"/>\n",
              "  </svg>\n",
              "      </button>\n",
              "      \n",
              "  <style>\n",
              "    .colab-df-container {\n",
              "      display:flex;\n",
              "      flex-wrap:wrap;\n",
              "      gap: 12px;\n",
              "    }\n",
              "\n",
              "    .colab-df-convert {\n",
              "      background-color: #E8F0FE;\n",
              "      border: none;\n",
              "      border-radius: 50%;\n",
              "      cursor: pointer;\n",
              "      display: none;\n",
              "      fill: #1967D2;\n",
              "      height: 32px;\n",
              "      padding: 0 0 0 0;\n",
              "      width: 32px;\n",
              "    }\n",
              "\n",
              "    .colab-df-convert:hover {\n",
              "      background-color: #E2EBFA;\n",
              "      box-shadow: 0px 1px 2px rgba(60, 64, 67, 0.3), 0px 1px 3px 1px rgba(60, 64, 67, 0.15);\n",
              "      fill: #174EA6;\n",
              "    }\n",
              "\n",
              "    [theme=dark] .colab-df-convert {\n",
              "      background-color: #3B4455;\n",
              "      fill: #D2E3FC;\n",
              "    }\n",
              "\n",
              "    [theme=dark] .colab-df-convert:hover {\n",
              "      background-color: #434B5C;\n",
              "      box-shadow: 0px 1px 3px 1px rgba(0, 0, 0, 0.15);\n",
              "      filter: drop-shadow(0px 1px 2px rgba(0, 0, 0, 0.3));\n",
              "      fill: #FFFFFF;\n",
              "    }\n",
              "  </style>\n",
              "\n",
              "      <script>\n",
              "        const buttonEl =\n",
              "          document.querySelector('#df-c61628d1-b71a-4712-a2c6-69f4b81160b3 button.colab-df-convert');\n",
              "        buttonEl.style.display =\n",
              "          google.colab.kernel.accessAllowed ? 'block' : 'none';\n",
              "\n",
              "        async function convertToInteractive(key) {\n",
              "          const element = document.querySelector('#df-c61628d1-b71a-4712-a2c6-69f4b81160b3');\n",
              "          const dataTable =\n",
              "            await google.colab.kernel.invokeFunction('convertToInteractive',\n",
              "                                                     [key], {});\n",
              "          if (!dataTable) return;\n",
              "\n",
              "          const docLinkHtml = 'Like what you see? Visit the ' +\n",
              "            '<a target=\"_blank\" href=https://colab.research.google.com/notebooks/data_table.ipynb>data table notebook</a>'\n",
              "            + ' to learn more about interactive tables.';\n",
              "          element.innerHTML = '';\n",
              "          dataTable['output_type'] = 'display_data';\n",
              "          await google.colab.output.renderOutput(dataTable, element);\n",
              "          const docLink = document.createElement('div');\n",
              "          docLink.innerHTML = docLinkHtml;\n",
              "          element.appendChild(docLink);\n",
              "        }\n",
              "      </script>\n",
              "    </div>\n",
              "  </div>\n",
              "  "
            ],
            "text/plain": [
              "                 Date  Humidity\n",
              "0 2018-07-01 00:01:00     64.89\n",
              "1 2018-07-01 00:02:00     64.89\n",
              "2 2018-07-01 00:03:00     64.89\n",
              "3 2018-07-01 00:04:00     64.89\n",
              "4 2018-07-01 00:05:00     64.90"
            ]
          },
          "metadata": {},
          "execution_count": 9
        }
      ]
    },
    {
      "cell_type": "code",
      "source": [
        "dfH.drop_duplicates(subset='Date', inplace=True)\n",
        "dfI.drop_duplicates(subset='Date', inplace=True)\n",
        "dfT.drop_duplicates(subset='Date', inplace=True)\n",
        "\n",
        "print('.....humidity.....')\n",
        "print(dfH.info())\n",
        "print('.....illuminance.....')\n",
        "print(dfI.info())\n",
        "print('.....temperature.....')\n",
        "print(dfT.info())"
      ],
      "metadata": {
        "colab": {
          "base_uri": "https://localhost:8080/"
        },
        "id": "aYaKVwJD2KZD",
        "outputId": "568e66f7-f635-4663-ce01-0b86ee633c1a"
      },
      "execution_count": null,
      "outputs": [
        {
          "output_type": "stream",
          "name": "stdout",
          "text": [
            ".....humidity.....\n",
            "<class 'pandas.core.frame.DataFrame'>\n",
            "Int64Index: 292525 entries, 0 to 294646\n",
            "Data columns (total 2 columns):\n",
            " #   Column    Non-Null Count   Dtype         \n",
            "---  ------    --------------   -----         \n",
            " 0   Date      292525 non-null  datetime64[ns]\n",
            " 1   Humidity  292525 non-null  float64       \n",
            "dtypes: datetime64[ns](1), float64(1)\n",
            "memory usage: 6.7 MB\n",
            "None\n",
            ".....illuminance.....\n",
            "<class 'pandas.core.frame.DataFrame'>\n",
            "Int64Index: 292525 entries, 0 to 294646\n",
            "Data columns (total 2 columns):\n",
            " #   Column       Non-Null Count   Dtype         \n",
            "---  ------       --------------   -----         \n",
            " 0   Date         292525 non-null  datetime64[ns]\n",
            " 1   Illuminance  292525 non-null  int64         \n",
            "dtypes: datetime64[ns](1), int64(1)\n",
            "memory usage: 6.7 MB\n",
            "None\n",
            ".....temperature.....\n",
            "<class 'pandas.core.frame.DataFrame'>\n",
            "Int64Index: 292525 entries, 0 to 294646\n",
            "Data columns (total 2 columns):\n",
            " #   Column       Non-Null Count   Dtype         \n",
            "---  ------       --------------   -----         \n",
            " 0   Date         292525 non-null  datetime64[ns]\n",
            " 1   Temperature  292525 non-null  float64       \n",
            "dtypes: datetime64[ns](1), float64(1)\n",
            "memory usage: 6.7 MB\n",
            "None\n"
          ]
        }
      ]
    },
    {
      "cell_type": "code",
      "source": [
        "# We will set this 'Date' column as an index column.\n",
        "dfH.set_index('Date', inplace=True)\n",
        "dfI.set_index('Date', inplace=True)\n",
        "dfT.set_index('Date', inplace=True)\n",
        "# check one\n",
        "dfH.head()"
      ],
      "metadata": {
        "colab": {
          "base_uri": "https://localhost:8080/",
          "height": 237
        },
        "id": "bE6zNNDC3WRe",
        "outputId": "1b96e365-3ce1-4ec2-c75c-547f484b29b9"
      },
      "execution_count": null,
      "outputs": [
        {
          "output_type": "execute_result",
          "data": {
            "text/html": [
              "\n",
              "  <div id=\"df-f6fa273c-91fb-4409-898b-84365d2916a4\">\n",
              "    <div class=\"colab-df-container\">\n",
              "      <div>\n",
              "<style scoped>\n",
              "    .dataframe tbody tr th:only-of-type {\n",
              "        vertical-align: middle;\n",
              "    }\n",
              "\n",
              "    .dataframe tbody tr th {\n",
              "        vertical-align: top;\n",
              "    }\n",
              "\n",
              "    .dataframe thead th {\n",
              "        text-align: right;\n",
              "    }\n",
              "</style>\n",
              "<table border=\"1\" class=\"dataframe\">\n",
              "  <thead>\n",
              "    <tr style=\"text-align: right;\">\n",
              "      <th></th>\n",
              "      <th>Humidity</th>\n",
              "    </tr>\n",
              "    <tr>\n",
              "      <th>Date</th>\n",
              "      <th></th>\n",
              "    </tr>\n",
              "  </thead>\n",
              "  <tbody>\n",
              "    <tr>\n",
              "      <th>2018-07-01 00:01:00</th>\n",
              "      <td>64.89</td>\n",
              "    </tr>\n",
              "    <tr>\n",
              "      <th>2018-07-01 00:02:00</th>\n",
              "      <td>64.89</td>\n",
              "    </tr>\n",
              "    <tr>\n",
              "      <th>2018-07-01 00:03:00</th>\n",
              "      <td>64.89</td>\n",
              "    </tr>\n",
              "    <tr>\n",
              "      <th>2018-07-01 00:04:00</th>\n",
              "      <td>64.89</td>\n",
              "    </tr>\n",
              "    <tr>\n",
              "      <th>2018-07-01 00:05:00</th>\n",
              "      <td>64.90</td>\n",
              "    </tr>\n",
              "  </tbody>\n",
              "</table>\n",
              "</div>\n",
              "      <button class=\"colab-df-convert\" onclick=\"convertToInteractive('df-f6fa273c-91fb-4409-898b-84365d2916a4')\"\n",
              "              title=\"Convert this dataframe to an interactive table.\"\n",
              "              style=\"display:none;\">\n",
              "        \n",
              "  <svg xmlns=\"http://www.w3.org/2000/svg\" height=\"24px\"viewBox=\"0 0 24 24\"\n",
              "       width=\"24px\">\n",
              "    <path d=\"M0 0h24v24H0V0z\" fill=\"none\"/>\n",
              "    <path d=\"M18.56 5.44l.94 2.06.94-2.06 2.06-.94-2.06-.94-.94-2.06-.94 2.06-2.06.94zm-11 1L8.5 8.5l.94-2.06 2.06-.94-2.06-.94L8.5 2.5l-.94 2.06-2.06.94zm10 10l.94 2.06.94-2.06 2.06-.94-2.06-.94-.94-2.06-.94 2.06-2.06.94z\"/><path d=\"M17.41 7.96l-1.37-1.37c-.4-.4-.92-.59-1.43-.59-.52 0-1.04.2-1.43.59L10.3 9.45l-7.72 7.72c-.78.78-.78 2.05 0 2.83L4 21.41c.39.39.9.59 1.41.59.51 0 1.02-.2 1.41-.59l7.78-7.78 2.81-2.81c.8-.78.8-2.07 0-2.86zM5.41 20L4 18.59l7.72-7.72 1.47 1.35L5.41 20z\"/>\n",
              "  </svg>\n",
              "      </button>\n",
              "      \n",
              "  <style>\n",
              "    .colab-df-container {\n",
              "      display:flex;\n",
              "      flex-wrap:wrap;\n",
              "      gap: 12px;\n",
              "    }\n",
              "\n",
              "    .colab-df-convert {\n",
              "      background-color: #E8F0FE;\n",
              "      border: none;\n",
              "      border-radius: 50%;\n",
              "      cursor: pointer;\n",
              "      display: none;\n",
              "      fill: #1967D2;\n",
              "      height: 32px;\n",
              "      padding: 0 0 0 0;\n",
              "      width: 32px;\n",
              "    }\n",
              "\n",
              "    .colab-df-convert:hover {\n",
              "      background-color: #E2EBFA;\n",
              "      box-shadow: 0px 1px 2px rgba(60, 64, 67, 0.3), 0px 1px 3px 1px rgba(60, 64, 67, 0.15);\n",
              "      fill: #174EA6;\n",
              "    }\n",
              "\n",
              "    [theme=dark] .colab-df-convert {\n",
              "      background-color: #3B4455;\n",
              "      fill: #D2E3FC;\n",
              "    }\n",
              "\n",
              "    [theme=dark] .colab-df-convert:hover {\n",
              "      background-color: #434B5C;\n",
              "      box-shadow: 0px 1px 3px 1px rgba(0, 0, 0, 0.15);\n",
              "      filter: drop-shadow(0px 1px 2px rgba(0, 0, 0, 0.3));\n",
              "      fill: #FFFFFF;\n",
              "    }\n",
              "  </style>\n",
              "\n",
              "      <script>\n",
              "        const buttonEl =\n",
              "          document.querySelector('#df-f6fa273c-91fb-4409-898b-84365d2916a4 button.colab-df-convert');\n",
              "        buttonEl.style.display =\n",
              "          google.colab.kernel.accessAllowed ? 'block' : 'none';\n",
              "\n",
              "        async function convertToInteractive(key) {\n",
              "          const element = document.querySelector('#df-f6fa273c-91fb-4409-898b-84365d2916a4');\n",
              "          const dataTable =\n",
              "            await google.colab.kernel.invokeFunction('convertToInteractive',\n",
              "                                                     [key], {});\n",
              "          if (!dataTable) return;\n",
              "\n",
              "          const docLinkHtml = 'Like what you see? Visit the ' +\n",
              "            '<a target=\"_blank\" href=https://colab.research.google.com/notebooks/data_table.ipynb>data table notebook</a>'\n",
              "            + ' to learn more about interactive tables.';\n",
              "          element.innerHTML = '';\n",
              "          dataTable['output_type'] = 'display_data';\n",
              "          await google.colab.output.renderOutput(dataTable, element);\n",
              "          const docLink = document.createElement('div');\n",
              "          docLink.innerHTML = docLinkHtml;\n",
              "          element.appendChild(docLink);\n",
              "        }\n",
              "      </script>\n",
              "    </div>\n",
              "  </div>\n",
              "  "
            ],
            "text/plain": [
              "                     Humidity\n",
              "Date                         \n",
              "2018-07-01 00:01:00     64.89\n",
              "2018-07-01 00:02:00     64.89\n",
              "2018-07-01 00:03:00     64.89\n",
              "2018-07-01 00:04:00     64.89\n",
              "2018-07-01 00:05:00     64.90"
            ]
          },
          "metadata": {},
          "execution_count": 11
        }
      ]
    },
    {
      "cell_type": "markdown",
      "source": [
        "Now we have the clean time-series data to work on."
      ],
      "metadata": {
        "id": "ePatiGeB4Hrw"
      }
    },
    {
      "cell_type": "code",
      "source": [
        "dfH.info()"
      ],
      "metadata": {
        "colab": {
          "base_uri": "https://localhost:8080/"
        },
        "id": "wSLg3c4X3-1G",
        "outputId": "0e035087-596a-44b4-9a95-3525cf96cb84"
      },
      "execution_count": null,
      "outputs": [
        {
          "output_type": "stream",
          "name": "stdout",
          "text": [
            "<class 'pandas.core.frame.DataFrame'>\n",
            "DatetimeIndex: 292525 entries, 2018-07-01 00:01:00 to 2019-07-01 00:00:00\n",
            "Data columns (total 1 columns):\n",
            " #   Column    Non-Null Count   Dtype  \n",
            "---  ------    --------------   -----  \n",
            " 0   Humidity  292525 non-null  float64\n",
            "dtypes: float64(1)\n",
            "memory usage: 4.5 MB\n"
          ]
        }
      ]
    },
    {
      "cell_type": "markdown",
      "source": [
        "# **2. Deal with missing time-series data**\n",
        "\n",
        "Notice that our time-series data should have 60mins/hr24hrs/day365days/year = 525,600 rows. However, our file has only 292,525 entries."
      ],
      "metadata": {
        "id": "VLgVYUVd420E"
      }
    },
    {
      "cell_type": "code",
      "source": [
        "# We will use the code below to create the datetime index from July 1, 2018 to June 30, 2019 at one-minute intervals.\n",
        "# Then, we will reindex our dataframe into the datetime index\n",
        "# Notice now that our data becomes 525,600 entries.\n",
        "datetime_index = pd.date_range('2018-07-01 00:00:00', '2019-06-30 23:59:00', freq='1min')\n",
        "dataH = dfH.reindex(datetime_index)\n",
        "dataI = dfI.reindex(datetime_index)\n",
        "dataT = dfT.reindex(datetime_index)\n",
        "\n",
        "print('.....humidity.....')\n",
        "print(dataH.info())\n",
        "print('.....illuminance.....')\n",
        "print(dataI.info())\n",
        "print('.....temperature.....')\n",
        "print(dataT.info())"
      ],
      "metadata": {
        "colab": {
          "base_uri": "https://localhost:8080/"
        },
        "id": "93Uihmgx4jYf",
        "outputId": "c7c8f30d-6d5a-4adc-a46f-0844b5845f7f"
      },
      "execution_count": null,
      "outputs": [
        {
          "output_type": "stream",
          "name": "stdout",
          "text": [
            ".....humidity.....\n",
            "<class 'pandas.core.frame.DataFrame'>\n",
            "DatetimeIndex: 525600 entries, 2018-07-01 00:00:00 to 2019-06-30 23:59:00\n",
            "Freq: T\n",
            "Data columns (total 1 columns):\n",
            " #   Column    Non-Null Count   Dtype  \n",
            "---  ------    --------------   -----  \n",
            " 0   Humidity  292524 non-null  float64\n",
            "dtypes: float64(1)\n",
            "memory usage: 8.0 MB\n",
            "None\n",
            ".....illuminance.....\n",
            "<class 'pandas.core.frame.DataFrame'>\n",
            "DatetimeIndex: 525600 entries, 2018-07-01 00:00:00 to 2019-06-30 23:59:00\n",
            "Freq: T\n",
            "Data columns (total 1 columns):\n",
            " #   Column       Non-Null Count   Dtype  \n",
            "---  ------       --------------   -----  \n",
            " 0   Illuminance  292524 non-null  float64\n",
            "dtypes: float64(1)\n",
            "memory usage: 8.0 MB\n",
            "None\n",
            ".....temperature.....\n",
            "<class 'pandas.core.frame.DataFrame'>\n",
            "DatetimeIndex: 525600 entries, 2018-07-01 00:00:00 to 2019-06-30 23:59:00\n",
            "Freq: T\n",
            "Data columns (total 1 columns):\n",
            " #   Column       Non-Null Count   Dtype  \n",
            "---  ------       --------------   -----  \n",
            " 0   Temperature  292524 non-null  float64\n",
            "dtypes: float64(1)\n",
            "memory usage: 8.0 MB\n",
            "None\n"
          ]
        }
      ]
    },
    {
      "cell_type": "code",
      "source": [
        "data=dataH.join(dataI).join(dataT)\n",
        "data.info()"
      ],
      "metadata": {
        "colab": {
          "base_uri": "https://localhost:8080/"
        },
        "id": "IgPyaUPC5dIU",
        "outputId": "36f30d39-b202-48dd-a12b-48a48234b7d6"
      },
      "execution_count": null,
      "outputs": [
        {
          "output_type": "stream",
          "name": "stdout",
          "text": [
            "<class 'pandas.core.frame.DataFrame'>\n",
            "DatetimeIndex: 525600 entries, 2018-07-01 00:00:00 to 2019-06-30 23:59:00\n",
            "Freq: T\n",
            "Data columns (total 3 columns):\n",
            " #   Column       Non-Null Count   Dtype  \n",
            "---  ------       --------------   -----  \n",
            " 0   Humidity     292524 non-null  float64\n",
            " 1   Illuminance  292524 non-null  float64\n",
            " 2   Temperature  292524 non-null  float64\n",
            "dtypes: float64(3)\n",
            "memory usage: 36.0 MB\n"
          ]
        }
      ]
    },
    {
      "cell_type": "code",
      "source": [
        "data.head()"
      ],
      "metadata": {
        "colab": {
          "base_uri": "https://localhost:8080/",
          "height": 206
        },
        "id": "C8TfOBhW-HHZ",
        "outputId": "2b2b1f62-81ad-4dd7-fe61-1ade863a4cd3"
      },
      "execution_count": null,
      "outputs": [
        {
          "output_type": "execute_result",
          "data": {
            "text/html": [
              "\n",
              "  <div id=\"df-f6dd77ff-a13c-437d-bec1-5f297f5fcbed\">\n",
              "    <div class=\"colab-df-container\">\n",
              "      <div>\n",
              "<style scoped>\n",
              "    .dataframe tbody tr th:only-of-type {\n",
              "        vertical-align: middle;\n",
              "    }\n",
              "\n",
              "    .dataframe tbody tr th {\n",
              "        vertical-align: top;\n",
              "    }\n",
              "\n",
              "    .dataframe thead th {\n",
              "        text-align: right;\n",
              "    }\n",
              "</style>\n",
              "<table border=\"1\" class=\"dataframe\">\n",
              "  <thead>\n",
              "    <tr style=\"text-align: right;\">\n",
              "      <th></th>\n",
              "      <th>Humidity</th>\n",
              "      <th>Illuminance</th>\n",
              "      <th>Temperature</th>\n",
              "    </tr>\n",
              "  </thead>\n",
              "  <tbody>\n",
              "    <tr>\n",
              "      <th>2018-07-01 00:00:00</th>\n",
              "      <td>NaN</td>\n",
              "      <td>NaN</td>\n",
              "      <td>NaN</td>\n",
              "    </tr>\n",
              "    <tr>\n",
              "      <th>2018-07-01 00:01:00</th>\n",
              "      <td>64.89</td>\n",
              "      <td>0.0</td>\n",
              "      <td>28.85</td>\n",
              "    </tr>\n",
              "    <tr>\n",
              "      <th>2018-07-01 00:02:00</th>\n",
              "      <td>64.89</td>\n",
              "      <td>0.0</td>\n",
              "      <td>28.85</td>\n",
              "    </tr>\n",
              "    <tr>\n",
              "      <th>2018-07-01 00:03:00</th>\n",
              "      <td>64.89</td>\n",
              "      <td>0.0</td>\n",
              "      <td>28.85</td>\n",
              "    </tr>\n",
              "    <tr>\n",
              "      <th>2018-07-01 00:04:00</th>\n",
              "      <td>64.89</td>\n",
              "      <td>0.0</td>\n",
              "      <td>28.85</td>\n",
              "    </tr>\n",
              "  </tbody>\n",
              "</table>\n",
              "</div>\n",
              "      <button class=\"colab-df-convert\" onclick=\"convertToInteractive('df-f6dd77ff-a13c-437d-bec1-5f297f5fcbed')\"\n",
              "              title=\"Convert this dataframe to an interactive table.\"\n",
              "              style=\"display:none;\">\n",
              "        \n",
              "  <svg xmlns=\"http://www.w3.org/2000/svg\" height=\"24px\"viewBox=\"0 0 24 24\"\n",
              "       width=\"24px\">\n",
              "    <path d=\"M0 0h24v24H0V0z\" fill=\"none\"/>\n",
              "    <path d=\"M18.56 5.44l.94 2.06.94-2.06 2.06-.94-2.06-.94-.94-2.06-.94 2.06-2.06.94zm-11 1L8.5 8.5l.94-2.06 2.06-.94-2.06-.94L8.5 2.5l-.94 2.06-2.06.94zm10 10l.94 2.06.94-2.06 2.06-.94-2.06-.94-.94-2.06-.94 2.06-2.06.94z\"/><path d=\"M17.41 7.96l-1.37-1.37c-.4-.4-.92-.59-1.43-.59-.52 0-1.04.2-1.43.59L10.3 9.45l-7.72 7.72c-.78.78-.78 2.05 0 2.83L4 21.41c.39.39.9.59 1.41.59.51 0 1.02-.2 1.41-.59l7.78-7.78 2.81-2.81c.8-.78.8-2.07 0-2.86zM5.41 20L4 18.59l7.72-7.72 1.47 1.35L5.41 20z\"/>\n",
              "  </svg>\n",
              "      </button>\n",
              "      \n",
              "  <style>\n",
              "    .colab-df-container {\n",
              "      display:flex;\n",
              "      flex-wrap:wrap;\n",
              "      gap: 12px;\n",
              "    }\n",
              "\n",
              "    .colab-df-convert {\n",
              "      background-color: #E8F0FE;\n",
              "      border: none;\n",
              "      border-radius: 50%;\n",
              "      cursor: pointer;\n",
              "      display: none;\n",
              "      fill: #1967D2;\n",
              "      height: 32px;\n",
              "      padding: 0 0 0 0;\n",
              "      width: 32px;\n",
              "    }\n",
              "\n",
              "    .colab-df-convert:hover {\n",
              "      background-color: #E2EBFA;\n",
              "      box-shadow: 0px 1px 2px rgba(60, 64, 67, 0.3), 0px 1px 3px 1px rgba(60, 64, 67, 0.15);\n",
              "      fill: #174EA6;\n",
              "    }\n",
              "\n",
              "    [theme=dark] .colab-df-convert {\n",
              "      background-color: #3B4455;\n",
              "      fill: #D2E3FC;\n",
              "    }\n",
              "\n",
              "    [theme=dark] .colab-df-convert:hover {\n",
              "      background-color: #434B5C;\n",
              "      box-shadow: 0px 1px 3px 1px rgba(0, 0, 0, 0.15);\n",
              "      filter: drop-shadow(0px 1px 2px rgba(0, 0, 0, 0.3));\n",
              "      fill: #FFFFFF;\n",
              "    }\n",
              "  </style>\n",
              "\n",
              "      <script>\n",
              "        const buttonEl =\n",
              "          document.querySelector('#df-f6dd77ff-a13c-437d-bec1-5f297f5fcbed button.colab-df-convert');\n",
              "        buttonEl.style.display =\n",
              "          google.colab.kernel.accessAllowed ? 'block' : 'none';\n",
              "\n",
              "        async function convertToInteractive(key) {\n",
              "          const element = document.querySelector('#df-f6dd77ff-a13c-437d-bec1-5f297f5fcbed');\n",
              "          const dataTable =\n",
              "            await google.colab.kernel.invokeFunction('convertToInteractive',\n",
              "                                                     [key], {});\n",
              "          if (!dataTable) return;\n",
              "\n",
              "          const docLinkHtml = 'Like what you see? Visit the ' +\n",
              "            '<a target=\"_blank\" href=https://colab.research.google.com/notebooks/data_table.ipynb>data table notebook</a>'\n",
              "            + ' to learn more about interactive tables.';\n",
              "          element.innerHTML = '';\n",
              "          dataTable['output_type'] = 'display_data';\n",
              "          await google.colab.output.renderOutput(dataTable, element);\n",
              "          const docLink = document.createElement('div');\n",
              "          docLink.innerHTML = docLinkHtml;\n",
              "          element.appendChild(docLink);\n",
              "        }\n",
              "      </script>\n",
              "    </div>\n",
              "  </div>\n",
              "  "
            ],
            "text/plain": [
              "                     Humidity  Illuminance  Temperature\n",
              "2018-07-01 00:00:00       NaN          NaN          NaN\n",
              "2018-07-01 00:01:00     64.89          0.0        28.85\n",
              "2018-07-01 00:02:00     64.89          0.0        28.85\n",
              "2018-07-01 00:03:00     64.89          0.0        28.85\n",
              "2018-07-01 00:04:00     64.89          0.0        28.85"
            ]
          },
          "metadata": {},
          "execution_count": 14
        }
      ]
    },
    {
      "cell_type": "markdown",
      "source": [
        "# **3. Filter a selected time range**\n",
        "\n",
        "The beauty of time-series data in Python is that we can select a specific range of data based on timestamp."
      ],
      "metadata": {
        "id": "xIDxrU_T-h94"
      }
    },
    {
      "cell_type": "code",
      "source": [
        "data['2018-07-01 00:00':'2018-07-01 23:59']"
      ],
      "metadata": {
        "colab": {
          "base_uri": "https://localhost:8080/",
          "height": 423
        },
        "id": "e5LIsHGP-Qy8",
        "outputId": "d44a229c-93b3-4778-99a0-81ab8b00cac2"
      },
      "execution_count": null,
      "outputs": [
        {
          "output_type": "execute_result",
          "data": {
            "text/html": [
              "\n",
              "  <div id=\"df-c7b5494c-8377-4cd2-8149-867faaea75aa\">\n",
              "    <div class=\"colab-df-container\">\n",
              "      <div>\n",
              "<style scoped>\n",
              "    .dataframe tbody tr th:only-of-type {\n",
              "        vertical-align: middle;\n",
              "    }\n",
              "\n",
              "    .dataframe tbody tr th {\n",
              "        vertical-align: top;\n",
              "    }\n",
              "\n",
              "    .dataframe thead th {\n",
              "        text-align: right;\n",
              "    }\n",
              "</style>\n",
              "<table border=\"1\" class=\"dataframe\">\n",
              "  <thead>\n",
              "    <tr style=\"text-align: right;\">\n",
              "      <th></th>\n",
              "      <th>Humidity</th>\n",
              "      <th>Illuminance</th>\n",
              "      <th>Temperature</th>\n",
              "    </tr>\n",
              "  </thead>\n",
              "  <tbody>\n",
              "    <tr>\n",
              "      <th>2018-07-01 00:00:00</th>\n",
              "      <td>NaN</td>\n",
              "      <td>NaN</td>\n",
              "      <td>NaN</td>\n",
              "    </tr>\n",
              "    <tr>\n",
              "      <th>2018-07-01 00:01:00</th>\n",
              "      <td>64.89</td>\n",
              "      <td>0.0</td>\n",
              "      <td>28.85</td>\n",
              "    </tr>\n",
              "    <tr>\n",
              "      <th>2018-07-01 00:02:00</th>\n",
              "      <td>64.89</td>\n",
              "      <td>0.0</td>\n",
              "      <td>28.85</td>\n",
              "    </tr>\n",
              "    <tr>\n",
              "      <th>2018-07-01 00:03:00</th>\n",
              "      <td>64.89</td>\n",
              "      <td>0.0</td>\n",
              "      <td>28.85</td>\n",
              "    </tr>\n",
              "    <tr>\n",
              "      <th>2018-07-01 00:04:00</th>\n",
              "      <td>64.89</td>\n",
              "      <td>0.0</td>\n",
              "      <td>28.85</td>\n",
              "    </tr>\n",
              "    <tr>\n",
              "      <th>...</th>\n",
              "      <td>...</td>\n",
              "      <td>...</td>\n",
              "      <td>...</td>\n",
              "    </tr>\n",
              "    <tr>\n",
              "      <th>2018-07-01 23:55:00</th>\n",
              "      <td>65.40</td>\n",
              "      <td>0.0</td>\n",
              "      <td>29.72</td>\n",
              "    </tr>\n",
              "    <tr>\n",
              "      <th>2018-07-01 23:56:00</th>\n",
              "      <td>65.40</td>\n",
              "      <td>0.0</td>\n",
              "      <td>29.72</td>\n",
              "    </tr>\n",
              "    <tr>\n",
              "      <th>2018-07-01 23:57:00</th>\n",
              "      <td>65.40</td>\n",
              "      <td>0.0</td>\n",
              "      <td>29.71</td>\n",
              "    </tr>\n",
              "    <tr>\n",
              "      <th>2018-07-01 23:58:00</th>\n",
              "      <td>65.40</td>\n",
              "      <td>0.0</td>\n",
              "      <td>29.71</td>\n",
              "    </tr>\n",
              "    <tr>\n",
              "      <th>2018-07-01 23:59:00</th>\n",
              "      <td>65.40</td>\n",
              "      <td>0.0</td>\n",
              "      <td>29.71</td>\n",
              "    </tr>\n",
              "  </tbody>\n",
              "</table>\n",
              "<p>1440 rows × 3 columns</p>\n",
              "</div>\n",
              "      <button class=\"colab-df-convert\" onclick=\"convertToInteractive('df-c7b5494c-8377-4cd2-8149-867faaea75aa')\"\n",
              "              title=\"Convert this dataframe to an interactive table.\"\n",
              "              style=\"display:none;\">\n",
              "        \n",
              "  <svg xmlns=\"http://www.w3.org/2000/svg\" height=\"24px\"viewBox=\"0 0 24 24\"\n",
              "       width=\"24px\">\n",
              "    <path d=\"M0 0h24v24H0V0z\" fill=\"none\"/>\n",
              "    <path d=\"M18.56 5.44l.94 2.06.94-2.06 2.06-.94-2.06-.94-.94-2.06-.94 2.06-2.06.94zm-11 1L8.5 8.5l.94-2.06 2.06-.94-2.06-.94L8.5 2.5l-.94 2.06-2.06.94zm10 10l.94 2.06.94-2.06 2.06-.94-2.06-.94-.94-2.06-.94 2.06-2.06.94z\"/><path d=\"M17.41 7.96l-1.37-1.37c-.4-.4-.92-.59-1.43-.59-.52 0-1.04.2-1.43.59L10.3 9.45l-7.72 7.72c-.78.78-.78 2.05 0 2.83L4 21.41c.39.39.9.59 1.41.59.51 0 1.02-.2 1.41-.59l7.78-7.78 2.81-2.81c.8-.78.8-2.07 0-2.86zM5.41 20L4 18.59l7.72-7.72 1.47 1.35L5.41 20z\"/>\n",
              "  </svg>\n",
              "      </button>\n",
              "      \n",
              "  <style>\n",
              "    .colab-df-container {\n",
              "      display:flex;\n",
              "      flex-wrap:wrap;\n",
              "      gap: 12px;\n",
              "    }\n",
              "\n",
              "    .colab-df-convert {\n",
              "      background-color: #E8F0FE;\n",
              "      border: none;\n",
              "      border-radius: 50%;\n",
              "      cursor: pointer;\n",
              "      display: none;\n",
              "      fill: #1967D2;\n",
              "      height: 32px;\n",
              "      padding: 0 0 0 0;\n",
              "      width: 32px;\n",
              "    }\n",
              "\n",
              "    .colab-df-convert:hover {\n",
              "      background-color: #E2EBFA;\n",
              "      box-shadow: 0px 1px 2px rgba(60, 64, 67, 0.3), 0px 1px 3px 1px rgba(60, 64, 67, 0.15);\n",
              "      fill: #174EA6;\n",
              "    }\n",
              "\n",
              "    [theme=dark] .colab-df-convert {\n",
              "      background-color: #3B4455;\n",
              "      fill: #D2E3FC;\n",
              "    }\n",
              "\n",
              "    [theme=dark] .colab-df-convert:hover {\n",
              "      background-color: #434B5C;\n",
              "      box-shadow: 0px 1px 3px 1px rgba(0, 0, 0, 0.15);\n",
              "      filter: drop-shadow(0px 1px 2px rgba(0, 0, 0, 0.3));\n",
              "      fill: #FFFFFF;\n",
              "    }\n",
              "  </style>\n",
              "\n",
              "      <script>\n",
              "        const buttonEl =\n",
              "          document.querySelector('#df-c7b5494c-8377-4cd2-8149-867faaea75aa button.colab-df-convert');\n",
              "        buttonEl.style.display =\n",
              "          google.colab.kernel.accessAllowed ? 'block' : 'none';\n",
              "\n",
              "        async function convertToInteractive(key) {\n",
              "          const element = document.querySelector('#df-c7b5494c-8377-4cd2-8149-867faaea75aa');\n",
              "          const dataTable =\n",
              "            await google.colab.kernel.invokeFunction('convertToInteractive',\n",
              "                                                     [key], {});\n",
              "          if (!dataTable) return;\n",
              "\n",
              "          const docLinkHtml = 'Like what you see? Visit the ' +\n",
              "            '<a target=\"_blank\" href=https://colab.research.google.com/notebooks/data_table.ipynb>data table notebook</a>'\n",
              "            + ' to learn more about interactive tables.';\n",
              "          element.innerHTML = '';\n",
              "          dataTable['output_type'] = 'display_data';\n",
              "          await google.colab.output.renderOutput(dataTable, element);\n",
              "          const docLink = document.createElement('div');\n",
              "          docLink.innerHTML = docLinkHtml;\n",
              "          element.appendChild(docLink);\n",
              "        }\n",
              "      </script>\n",
              "    </div>\n",
              "  </div>\n",
              "  "
            ],
            "text/plain": [
              "                     Humidity  Illuminance  Temperature\n",
              "2018-07-01 00:00:00       NaN          NaN          NaN\n",
              "2018-07-01 00:01:00     64.89          0.0        28.85\n",
              "2018-07-01 00:02:00     64.89          0.0        28.85\n",
              "2018-07-01 00:03:00     64.89          0.0        28.85\n",
              "2018-07-01 00:04:00     64.89          0.0        28.85\n",
              "...                       ...          ...          ...\n",
              "2018-07-01 23:55:00     65.40          0.0        29.72\n",
              "2018-07-01 23:56:00     65.40          0.0        29.72\n",
              "2018-07-01 23:57:00     65.40          0.0        29.71\n",
              "2018-07-01 23:58:00     65.40          0.0        29.71\n",
              "2018-07-01 23:59:00     65.40          0.0        29.71\n",
              "\n",
              "[1440 rows x 3 columns]"
            ]
          },
          "metadata": {},
          "execution_count": 14
        }
      ]
    },
    {
      "cell_type": "code",
      "source": [
        "data.index"
      ],
      "metadata": {
        "colab": {
          "base_uri": "https://localhost:8080/"
        },
        "id": "TlY82NGH_F09",
        "outputId": "e7b7934b-b03c-48cb-8736-1e160ca0e954"
      },
      "execution_count": null,
      "outputs": [
        {
          "output_type": "execute_result",
          "data": {
            "text/plain": [
              "DatetimeIndex(['2018-07-01 00:00:00', '2018-07-01 00:01:00',\n",
              "               '2018-07-01 00:02:00', '2018-07-01 00:03:00',\n",
              "               '2018-07-01 00:04:00', '2018-07-01 00:05:00',\n",
              "               '2018-07-01 00:06:00', '2018-07-01 00:07:00',\n",
              "               '2018-07-01 00:08:00', '2018-07-01 00:09:00',\n",
              "               ...\n",
              "               '2019-06-30 23:50:00', '2019-06-30 23:51:00',\n",
              "               '2019-06-30 23:52:00', '2019-06-30 23:53:00',\n",
              "               '2019-06-30 23:54:00', '2019-06-30 23:55:00',\n",
              "               '2019-06-30 23:56:00', '2019-06-30 23:57:00',\n",
              "               '2019-06-30 23:58:00', '2019-06-30 23:59:00'],\n",
              "              dtype='datetime64[ns]', length=525600, freq='T')"
            ]
          },
          "metadata": {},
          "execution_count": 16
        }
      ]
    },
    {
      "cell_type": "code",
      "source": [
        "data.shape"
      ],
      "metadata": {
        "colab": {
          "base_uri": "https://localhost:8080/"
        },
        "id": "xoN2dmMz_c1t",
        "outputId": "4cb8f0dc-1797-45ad-f30f-ea55526c7197"
      },
      "execution_count": null,
      "outputs": [
        {
          "output_type": "execute_result",
          "data": {
            "text/plain": [
              "(525600, 3)"
            ]
          },
          "metadata": {},
          "execution_count": 17
        }
      ]
    },
    {
      "cell_type": "markdown",
      "source": [
        "# **4. Visualization of Time-series Data**"
      ],
      "metadata": {
        "id": "y5MSBGS9_njD"
      }
    },
    {
      "cell_type": "markdown",
      "source": [
        "## **4.1 Missing Value Plot**"
      ],
      "metadata": {
        "id": "RLwWEa5S_zgJ"
      }
    },
    {
      "cell_type": "code",
      "source": [
        "import matplotlib.pyplot as plt\n",
        "import numpy as np"
      ],
      "metadata": {
        "id": "YzeISqi6AHZX"
      },
      "execution_count": null,
      "outputs": []
    },
    {
      "cell_type": "code",
      "source": [
        "# We can now plot the missing value heatmap.\n",
        "num_ticks=13 #tick number for Y-axis\n",
        "plt.figure(figsize = (1,5))\n",
        "ax = sns.heatmap(data.isnull(),cbar=False,\n",
        "                 yticklabels=['Jul18','Aug18','Sept18','Oct18','Nov18','Dec18',\n",
        "          'Jan19','Feb19','Mar19','Apr19','May19','Jun19',''])\n",
        "ax.set_yticks(np.linspace(0,525600,num_ticks,dtype=np.int))\n",
        "ax.set_title('missing sensor values')\n",
        "plt.show()"
      ],
      "metadata": {
        "colab": {
          "base_uri": "https://localhost:8080/",
          "height": 389
        },
        "id": "xz1y7scY_iR2",
        "outputId": "7c496542-5c64-49d3-ec0c-3df14b6b8474"
      },
      "execution_count": null,
      "outputs": [
        {
          "output_type": "display_data",
          "data": {
            "image/png": "[encoded data removed]",
            "text/plain": [
              "<Figure size 72x360 with 1 Axes>"
            ]
          },
          "metadata": {
            "needs_background": "light"
          }
        }
      ]
    },
    {
      "cell_type": "code",
      "source": [
        "sns.heatmap(data.isnull(),cbar=False)"
      ],
      "metadata": {
        "colab": {
          "base_uri": "https://localhost:8080/",
          "height": 287
        },
        "id": "aMFmWbzfChem",
        "outputId": "7c9b5f60-8520-45c1-e0af-8d3999a8e1f7"
      },
      "execution_count": null,
      "outputs": [
        {
          "output_type": "execute_result",
          "data": {
            "text/plain": [
              "<matplotlib.axes._subplots.AxesSubplot at 0x7f1915d575d0>"
            ]
          },
          "metadata": {},
          "execution_count": 17
        },
        {
          "output_type": "display_data",
          "data": {
            "image/png": "[encoded data removed]",
            "text/plain": [
              "<Figure size 432x288 with 1 Axes>"
            ]
          },
          "metadata": {
            "needs_background": "light"
          }
        }
      ]
    },
    {
      "cell_type": "markdown",
      "source": [
        "## **4.2 Time-series Plots**"
      ],
      "metadata": {
        "id": "6iBJqvniERF-"
      }
    },
    {
      "cell_type": "code",
      "source": [
        "data['2018-07-01 00:00':'2018-07-02 23:59'].plot(figsize=(10,5))"
      ],
      "metadata": {
        "colab": {
          "base_uri": "https://localhost:8080/",
          "height": 362
        },
        "id": "KddSq--JEnQj",
        "outputId": "280a85b3-ec43-45ad-e065-99b11c3fd578"
      },
      "execution_count": null,
      "outputs": [
        {
          "output_type": "execute_result",
          "data": {
            "text/plain": [
              "<matplotlib.axes._subplots.AxesSubplot at 0x7f19152acf50>"
            ]
          },
          "metadata": {},
          "execution_count": 18
        },
        {
          "output_type": "display_data",
          "data": {
            "image/png": "[encoded data removed]",
            "text/plain": [
              "<Figure size 720x360 with 1 Axes>"
            ]
          },
          "metadata": {
            "needs_background": "light"
          }
        }
      ]
    },
    {
      "cell_type": "code",
      "source": [
        "ax = data['2018-07-01 00:00':'2018-07-07 23:59'].plot(figsize=(10,5))\n",
        "ax.set_title('Humidity (%), Illuminance (Lux) and Temperature (deg C) plots')"
      ],
      "metadata": {
        "colab": {
          "base_uri": "https://localhost:8080/",
          "height": 376
        },
        "id": "9kRsVWEMClyB",
        "outputId": "77407435-41be-4989-80cf-f11baca3f184"
      },
      "execution_count": null,
      "outputs": [
        {
          "output_type": "execute_result",
          "data": {
            "text/plain": [
              "Text(0.5, 1.0, 'Humidity (%), Illuminance (Lux) and Temperature (deg C) plots')"
            ]
          },
          "metadata": {},
          "execution_count": 19
        },
        {
          "output_type": "display_data",
          "data": {
            "image/png": "[encoded data removed]",
            "text/plain": [
              "<Figure size 720x360 with 1 Axes>"
            ]
          },
          "metadata": {
            "needs_background": "light"
          }
        }
      ]
    },
    {
      "cell_type": "code",
      "source": [
        "# Clipping values to remove outliers\n",
        "data['Illuminance'] = data.Illuminance.clip(lower=0, upper=120)\n",
        "ax = data.plot(figsize=(10,5))\n",
        "ax.set_title('Humidity (%), Illuminance (Lux) and Temperature (deg C) plots')"
      ],
      "metadata": {
        "colab": {
          "base_uri": "https://localhost:8080/",
          "height": 364
        },
        "id": "dCe2n-ZKF8MM",
        "outputId": "17ad7b0e-a5a8-488a-e010-84aaa9bbc2b3"
      },
      "execution_count": null,
      "outputs": [
        {
          "output_type": "execute_result",
          "data": {
            "text/plain": [
              "Text(0.5, 1.0, 'Humidity (%), Illuminance (Lux) and Temperature (deg C) plots')"
            ]
          },
          "metadata": {},
          "execution_count": 20
        },
        {
          "output_type": "display_data",
          "data": {
            "image/png": "[encoded data removed]",
            "text/plain": [
              "<Figure size 720x360 with 1 Axes>"
            ]
          },
          "metadata": {
            "needs_background": "light"
          }
        }
      ]
    },
    {
      "cell_type": "code",
      "source": [
        "ax=data.loc['2019-04-01 00:00':'2019-04-07 23:59','Humidity'].plot(figsize=(10,5))\n",
        "ax.set_ylabel('Relative Humidity (%)')"
      ],
      "metadata": {
        "colab": {
          "base_uri": "https://localhost:8080/",
          "height": 363
        },
        "id": "xqPqoznYF-Jc",
        "outputId": "e3874639-e73e-450a-af5b-17991f3d9924"
      },
      "execution_count": null,
      "outputs": [
        {
          "output_type": "execute_result",
          "data": {
            "text/plain": [
              "Text(0, 0.5, 'Relative Humidity (%)')"
            ]
          },
          "metadata": {},
          "execution_count": 21
        },
        {
          "output_type": "display_data",
          "data": {
            "image/png": "[encoded data removed]",
            "text/plain": [
              "<Figure size 720x360 with 1 Axes>"
            ]
          },
          "metadata": {
            "needs_background": "light"
          }
        }
      ]
    },
    {
      "cell_type": "code",
      "source": [
        "fig, axs = plt.subplots(3, figsize=(10,6), tight_layout=True)\n",
        "axs[0].plot(data.loc['2019-04-01 00:00':'2019-04-07 23:59','Humidity'],color='blue')\n",
        "axs[1].plot(data.loc['2019-04-01 00:00':'2019-04-07 23:59','Illuminance'],color='green')\n",
        "axs[2].plot(data.loc['2019-04-01 00:00':'2019-04-07 23:59','Temperature'],color='orange')\n",
        "\n",
        "axs[0].set_ylabel('Humidity(%)')\n",
        "axs[1].set_ylabel('Illuminance(lux)')\n",
        "axs[2].set_ylabel('Temperature(deg C)')"
      ],
      "metadata": {
        "colab": {
          "base_uri": "https://localhost:8080/",
          "height": 458
        },
        "id": "W_wRFfnzGL_8",
        "outputId": "d359bea1-193e-4374-ef80-7e1d1a1eafb3"
      },
      "execution_count": null,
      "outputs": [
        {
          "output_type": "execute_result",
          "data": {
            "text/plain": [
              "Text(0, 0.5, 'Temperature(deg C)')"
            ]
          },
          "metadata": {},
          "execution_count": 22
        },
        {
          "output_type": "display_data",
          "data": {
            "image/png": "[encoded data removed]",
            "text/plain": [
              "<Figure size 720x432 with 3 Axes>"
            ]
          },
          "metadata": {
            "needs_background": "light"
          }
        }
      ]
    },
    {
      "cell_type": "markdown",
      "source": [
        "## **4.3 Histogram Plots**"
      ],
      "metadata": {
        "id": "mQjcCuNyGkGM"
      }
    },
    {
      "cell_type": "code",
      "source": [
        "data.Humidity.hist(bins=20)"
      ],
      "metadata": {
        "id": "TVhdVTArGUa8",
        "colab": {
          "base_uri": "https://localhost:8080/",
          "height": 282
        },
        "outputId": "6a6efcf6-c779-47b7-f2c0-dce70d3016bf"
      },
      "execution_count": null,
      "outputs": [
        {
          "output_type": "execute_result",
          "data": {
            "text/plain": [
              "<matplotlib.axes._subplots.AxesSubplot at 0x7f18ff2b3250>"
            ]
          },
          "metadata": {},
          "execution_count": 23
        },
        {
          "output_type": "display_data",
          "data": {
            "image/png": "[encoded data removed]",
            "text/plain": [
              "<Figure size 432x288 with 1 Axes>"
            ]
          },
          "metadata": {
            "needs_background": "light"
          }
        }
      ]
    },
    {
      "cell_type": "code",
      "source": [
        "data.Illuminance.hist(bins=20)"
      ],
      "metadata": {
        "colab": {
          "base_uri": "https://localhost:8080/",
          "height": 282
        },
        "id": "fY9jZroTSgm1",
        "outputId": "67fe9814-03b2-4b4a-9e19-afa35f4d450f"
      },
      "execution_count": null,
      "outputs": [
        {
          "output_type": "execute_result",
          "data": {
            "text/plain": [
              "<matplotlib.axes._subplots.AxesSubplot at 0x7f18ff18e190>"
            ]
          },
          "metadata": {},
          "execution_count": 24
        },
        {
          "output_type": "display_data",
          "data": {
            "image/png": "[encoded data removed]",
            "text/plain": [
              "<Figure size 432x288 with 1 Axes>"
            ]
          },
          "metadata": {
            "needs_background": "light"
          }
        }
      ]
    },
    {
      "cell_type": "code",
      "source": [
        "data.Illuminance[data['Illuminance']>0].hist(bins=20)"
      ],
      "metadata": {
        "colab": {
          "base_uri": "https://localhost:8080/",
          "height": 282
        },
        "id": "cEMSdRBcTlhE",
        "outputId": "5e6cac6b-c94f-4b63-9476-d5bf5b3e9249"
      },
      "execution_count": null,
      "outputs": [
        {
          "output_type": "execute_result",
          "data": {
            "text/plain": [
              "<matplotlib.axes._subplots.AxesSubplot at 0x7f18ff121a10>"
            ]
          },
          "metadata": {},
          "execution_count": 25
        },
        {
          "output_type": "display_data",
          "data": {
            "image/png": "[encoded data removed]",
            "text/plain": [
              "<Figure size 432x288 with 1 Axes>"
            ]
          },
          "metadata": {
            "needs_background": "light"
          }
        }
      ]
    },
    {
      "cell_type": "code",
      "source": [
        "data.Temperature.hist(bins=20)"
      ],
      "metadata": {
        "colab": {
          "base_uri": "https://localhost:8080/",
          "height": 285
        },
        "id": "QqrMHmP-Tsh8",
        "outputId": "a858b02f-6f29-4c72-c006-d92f55b3a262"
      },
      "execution_count": null,
      "outputs": [
        {
          "output_type": "execute_result",
          "data": {
            "text/plain": [
              "<matplotlib.axes._subplots.AxesSubplot at 0x7f18ff233d10>"
            ]
          },
          "metadata": {},
          "execution_count": 26
        },
        {
          "output_type": "display_data",
          "data": {
            "image/png": "[encoded data removed]",
            "text/plain": [
              "<Figure size 432x288 with 1 Axes>"
            ]
          },
          "metadata": {
            "needs_background": "light"
          }
        }
      ]
    },
    {
      "cell_type": "code",
      "source": [
        "data.info()"
      ],
      "metadata": {
        "colab": {
          "base_uri": "https://localhost:8080/"
        },
        "id": "alB0l0xqTwxM",
        "outputId": "f38c348f-a0c3-40a2-b38e-6f991880b02e"
      },
      "execution_count": null,
      "outputs": [
        {
          "output_type": "stream",
          "name": "stdout",
          "text": [
            "<class 'pandas.core.frame.DataFrame'>\n",
            "DatetimeIndex: 525600 entries, 2018-07-01 00:00:00 to 2019-06-30 23:59:00\n",
            "Freq: T\n",
            "Data columns (total 3 columns):\n",
            " #   Column       Non-Null Count   Dtype  \n",
            "---  ------       --------------   -----  \n",
            " 0   Humidity     292524 non-null  float64\n",
            " 1   Illuminance  292524 non-null  float64\n",
            " 2   Temperature  292524 non-null  float64\n",
            "dtypes: float64(3)\n",
            "memory usage: 36.0 MB\n"
          ]
        }
      ]
    },
    {
      "cell_type": "markdown",
      "source": [
        "# **5.0 Re-sample the Data**"
      ],
      "metadata": {
        "id": "Ou6fpIGeT_M8"
      }
    },
    {
      "cell_type": "code",
      "source": [
        "# Data are recorded in one-minute intervals.\n",
        "data.head(5)"
      ],
      "metadata": {
        "colab": {
          "base_uri": "https://localhost:8080/",
          "height": 206
        },
        "id": "Ou3yHpWiT2Kk",
        "outputId": "6efeaf28-cc53-4ff2-e6ee-7a090df3537f"
      },
      "execution_count": null,
      "outputs": [
        {
          "output_type": "execute_result",
          "data": {
            "text/html": [
              "\n",
              "  <div id=\"df-40e42ad1-1c8b-445b-9520-9e0614ee7032\">\n",
              "    <div class=\"colab-df-container\">\n",
              "      <div>\n",
              "<style scoped>\n",
              "    .dataframe tbody tr th:only-of-type {\n",
              "        vertical-align: middle;\n",
              "    }\n",
              "\n",
              "    .dataframe tbody tr th {\n",
              "        vertical-align: top;\n",
              "    }\n",
              "\n",
              "    .dataframe thead th {\n",
              "        text-align: right;\n",
              "    }\n",
              "</style>\n",
              "<table border=\"1\" class=\"dataframe\">\n",
              "  <thead>\n",
              "    <tr style=\"text-align: right;\">\n",
              "      <th></th>\n",
              "      <th>Humidity</th>\n",
              "      <th>Illuminance</th>\n",
              "      <th>Temperature</th>\n",
              "    </tr>\n",
              "  </thead>\n",
              "  <tbody>\n",
              "    <tr>\n",
              "      <th>2018-07-01 00:00:00</th>\n",
              "      <td>NaN</td>\n",
              "      <td>NaN</td>\n",
              "      <td>NaN</td>\n",
              "    </tr>\n",
              "    <tr>\n",
              "      <th>2018-07-01 00:01:00</th>\n",
              "      <td>64.89</td>\n",
              "      <td>0.0</td>\n",
              "      <td>28.85</td>\n",
              "    </tr>\n",
              "    <tr>\n",
              "      <th>2018-07-01 00:02:00</th>\n",
              "      <td>64.89</td>\n",
              "      <td>0.0</td>\n",
              "      <td>28.85</td>\n",
              "    </tr>\n",
              "    <tr>\n",
              "      <th>2018-07-01 00:03:00</th>\n",
              "      <td>64.89</td>\n",
              "      <td>0.0</td>\n",
              "      <td>28.85</td>\n",
              "    </tr>\n",
              "    <tr>\n",
              "      <th>2018-07-01 00:04:00</th>\n",
              "      <td>64.89</td>\n",
              "      <td>0.0</td>\n",
              "      <td>28.85</td>\n",
              "    </tr>\n",
              "  </tbody>\n",
              "</table>\n",
              "</div>\n",
              "      <button class=\"colab-df-convert\" onclick=\"convertToInteractive('df-40e42ad1-1c8b-445b-9520-9e0614ee7032')\"\n",
              "              title=\"Convert this dataframe to an interactive table.\"\n",
              "              style=\"display:none;\">\n",
              "        \n",
              "  <svg xmlns=\"http://www.w3.org/2000/svg\" height=\"24px\"viewBox=\"0 0 24 24\"\n",
              "       width=\"24px\">\n",
              "    <path d=\"M0 0h24v24H0V0z\" fill=\"none\"/>\n",
              "    <path d=\"M18.56 5.44l.94 2.06.94-2.06 2.06-.94-2.06-.94-.94-2.06-.94 2.06-2.06.94zm-11 1L8.5 8.5l.94-2.06 2.06-.94-2.06-.94L8.5 2.5l-.94 2.06-2.06.94zm10 10l.94 2.06.94-2.06 2.06-.94-2.06-.94-.94-2.06-.94 2.06-2.06.94z\"/><path d=\"M17.41 7.96l-1.37-1.37c-.4-.4-.92-.59-1.43-.59-.52 0-1.04.2-1.43.59L10.3 9.45l-7.72 7.72c-.78.78-.78 2.05 0 2.83L4 21.41c.39.39.9.59 1.41.59.51 0 1.02-.2 1.41-.59l7.78-7.78 2.81-2.81c.8-.78.8-2.07 0-2.86zM5.41 20L4 18.59l7.72-7.72 1.47 1.35L5.41 20z\"/>\n",
              "  </svg>\n",
              "      </button>\n",
              "      \n",
              "  <style>\n",
              "    .colab-df-container {\n",
              "      display:flex;\n",
              "      flex-wrap:wrap;\n",
              "      gap: 12px;\n",
              "    }\n",
              "\n",
              "    .colab-df-convert {\n",
              "      background-color: #E8F0FE;\n",
              "      border: none;\n",
              "      border-radius: 50%;\n",
              "      cursor: pointer;\n",
              "      display: none;\n",
              "      fill: #1967D2;\n",
              "      height: 32px;\n",
              "      padding: 0 0 0 0;\n",
              "      width: 32px;\n",
              "    }\n",
              "\n",
              "    .colab-df-convert:hover {\n",
              "      background-color: #E2EBFA;\n",
              "      box-shadow: 0px 1px 2px rgba(60, 64, 67, 0.3), 0px 1px 3px 1px rgba(60, 64, 67, 0.15);\n",
              "      fill: #174EA6;\n",
              "    }\n",
              "\n",
              "    [theme=dark] .colab-df-convert {\n",
              "      background-color: #3B4455;\n",
              "      fill: #D2E3FC;\n",
              "    }\n",
              "\n",
              "    [theme=dark] .colab-df-convert:hover {\n",
              "      background-color: #434B5C;\n",
              "      box-shadow: 0px 1px 3px 1px rgba(0, 0, 0, 0.15);\n",
              "      filter: drop-shadow(0px 1px 2px rgba(0, 0, 0, 0.3));\n",
              "      fill: #FFFFFF;\n",
              "    }\n",
              "  </style>\n",
              "\n",
              "      <script>\n",
              "        const buttonEl =\n",
              "          document.querySelector('#df-40e42ad1-1c8b-445b-9520-9e0614ee7032 button.colab-df-convert');\n",
              "        buttonEl.style.display =\n",
              "          google.colab.kernel.accessAllowed ? 'block' : 'none';\n",
              "\n",
              "        async function convertToInteractive(key) {\n",
              "          const element = document.querySelector('#df-40e42ad1-1c8b-445b-9520-9e0614ee7032');\n",
              "          const dataTable =\n",
              "            await google.colab.kernel.invokeFunction('convertToInteractive',\n",
              "                                                     [key], {});\n",
              "          if (!dataTable) return;\n",
              "\n",
              "          const docLinkHtml = 'Like what you see? Visit the ' +\n",
              "            '<a target=\"_blank\" href=https://colab.research.google.com/notebooks/data_table.ipynb>data table notebook</a>'\n",
              "            + ' to learn more about interactive tables.';\n",
              "          element.innerHTML = '';\n",
              "          dataTable['output_type'] = 'display_data';\n",
              "          await google.colab.output.renderOutput(dataTable, element);\n",
              "          const docLink = document.createElement('div');\n",
              "          docLink.innerHTML = docLinkHtml;\n",
              "          element.appendChild(docLink);\n",
              "        }\n",
              "      </script>\n",
              "    </div>\n",
              "  </div>\n",
              "  "
            ],
            "text/plain": [
              "                     Humidity  Illuminance  Temperature\n",
              "2018-07-01 00:00:00       NaN          NaN          NaN\n",
              "2018-07-01 00:01:00     64.89          0.0        28.85\n",
              "2018-07-01 00:02:00     64.89          0.0        28.85\n",
              "2018-07-01 00:03:00     64.89          0.0        28.85\n",
              "2018-07-01 00:04:00     64.89          0.0        28.85"
            ]
          },
          "metadata": {},
          "execution_count": 28
        }
      ]
    },
    {
      "cell_type": "code",
      "source": [
        "ax = data['2019-04-01 00:00':'2019-04-07 23:59'].plot(figsize=(10,5))\n",
        "ax.set_title('Humidity (%), Illuminance (Lux) and Temperature (deg C) plots')"
      ],
      "metadata": {
        "colab": {
          "base_uri": "https://localhost:8080/",
          "height": 376
        },
        "id": "9xFW3teDUJJE",
        "outputId": "e92ca0d0-9440-4762-9efe-e55d38b19939"
      },
      "execution_count": null,
      "outputs": [
        {
          "output_type": "execute_result",
          "data": {
            "text/plain": [
              "Text(0.5, 1.0, 'Humidity (%), Illuminance (Lux) and Temperature (deg C) plots')"
            ]
          },
          "metadata": {},
          "execution_count": 29
        },
        {
          "output_type": "display_data",
          "data": {
            "image/png": "[encoded data removed]",
            "text/plain": [
              "<Figure size 720x360 with 1 Axes>"
            ]
          },
          "metadata": {
            "needs_background": "light"
          }
        }
      ]
    },
    {
      "cell_type": "code",
      "source": [
        "# Data can be resampled into 15-minute intervals.\n",
        "data1=data.resample('15T').mean()\n",
        "data1.head(5)"
      ],
      "metadata": {
        "colab": {
          "base_uri": "https://localhost:8080/",
          "height": 206
        },
        "id": "3HF4nuAaUcUM",
        "outputId": "ceaf4b80-6612-4d8d-e24d-0871b0df8e71"
      },
      "execution_count": null,
      "outputs": [
        {
          "output_type": "execute_result",
          "data": {
            "text/html": [
              "\n",
              "  <div id=\"df-7771b10d-1718-482c-a5cf-053535e09d7c\">\n",
              "    <div class=\"colab-df-container\">\n",
              "      <div>\n",
              "<style scoped>\n",
              "    .dataframe tbody tr th:only-of-type {\n",
              "        vertical-align: middle;\n",
              "    }\n",
              "\n",
              "    .dataframe tbody tr th {\n",
              "        vertical-align: top;\n",
              "    }\n",
              "\n",
              "    .dataframe thead th {\n",
              "        text-align: right;\n",
              "    }\n",
              "</style>\n",
              "<table border=\"1\" class=\"dataframe\">\n",
              "  <thead>\n",
              "    <tr style=\"text-align: right;\">\n",
              "      <th></th>\n",
              "      <th>Humidity</th>\n",
              "      <th>Illuminance</th>\n",
              "      <th>Temperature</th>\n",
              "    </tr>\n",
              "  </thead>\n",
              "  <tbody>\n",
              "    <tr>\n",
              "      <th>2018-07-01 00:00:00</th>\n",
              "      <td>64.880000</td>\n",
              "      <td>0.0</td>\n",
              "      <td>28.837857</td>\n",
              "    </tr>\n",
              "    <tr>\n",
              "      <th>2018-07-01 00:15:00</th>\n",
              "      <td>64.764000</td>\n",
              "      <td>0.0</td>\n",
              "      <td>28.798000</td>\n",
              "    </tr>\n",
              "    <tr>\n",
              "      <th>2018-07-01 00:30:00</th>\n",
              "      <td>64.736000</td>\n",
              "      <td>0.0</td>\n",
              "      <td>28.803333</td>\n",
              "    </tr>\n",
              "    <tr>\n",
              "      <th>2018-07-01 00:45:00</th>\n",
              "      <td>64.716667</td>\n",
              "      <td>0.0</td>\n",
              "      <td>28.855333</td>\n",
              "    </tr>\n",
              "    <tr>\n",
              "      <th>2018-07-01 01:00:00</th>\n",
              "      <td>64.633333</td>\n",
              "      <td>0.0</td>\n",
              "      <td>28.854667</td>\n",
              "    </tr>\n",
              "  </tbody>\n",
              "</table>\n",
              "</div>\n",
              "      <button class=\"colab-df-convert\" onclick=\"convertToInteractive('df-7771b10d-1718-482c-a5cf-053535e09d7c')\"\n",
              "              title=\"Convert this dataframe to an interactive table.\"\n",
              "              style=\"display:none;\">\n",
              "        \n",
              "  <svg xmlns=\"http://www.w3.org/2000/svg\" height=\"24px\"viewBox=\"0 0 24 24\"\n",
              "       width=\"24px\">\n",
              "    <path d=\"M0 0h24v24H0V0z\" fill=\"none\"/>\n",
              "    <path d=\"M18.56 5.44l.94 2.06.94-2.06 2.06-.94-2.06-.94-.94-2.06-.94 2.06-2.06.94zm-11 1L8.5 8.5l.94-2.06 2.06-.94-2.06-.94L8.5 2.5l-.94 2.06-2.06.94zm10 10l.94 2.06.94-2.06 2.06-.94-2.06-.94-.94-2.06-.94 2.06-2.06.94z\"/><path d=\"M17.41 7.96l-1.37-1.37c-.4-.4-.92-.59-1.43-.59-.52 0-1.04.2-1.43.59L10.3 9.45l-7.72 7.72c-.78.78-.78 2.05 0 2.83L4 21.41c.39.39.9.59 1.41.59.51 0 1.02-.2 1.41-.59l7.78-7.78 2.81-2.81c.8-.78.8-2.07 0-2.86zM5.41 20L4 18.59l7.72-7.72 1.47 1.35L5.41 20z\"/>\n",
              "  </svg>\n",
              "      </button>\n",
              "      \n",
              "  <style>\n",
              "    .colab-df-container {\n",
              "      display:flex;\n",
              "      flex-wrap:wrap;\n",
              "      gap: 12px;\n",
              "    }\n",
              "\n",
              "    .colab-df-convert {\n",
              "      background-color: #E8F0FE;\n",
              "      border: none;\n",
              "      border-radius: 50%;\n",
              "      cursor: pointer;\n",
              "      display: none;\n",
              "      fill: #1967D2;\n",
              "      height: 32px;\n",
              "      padding: 0 0 0 0;\n",
              "      width: 32px;\n",
              "    }\n",
              "\n",
              "    .colab-df-convert:hover {\n",
              "      background-color: #E2EBFA;\n",
              "      box-shadow: 0px 1px 2px rgba(60, 64, 67, 0.3), 0px 1px 3px 1px rgba(60, 64, 67, 0.15);\n",
              "      fill: #174EA6;\n",
              "    }\n",
              "\n",
              "    [theme=dark] .colab-df-convert {\n",
              "      background-color: #3B4455;\n",
              "      fill: #D2E3FC;\n",
              "    }\n",
              "\n",
              "    [theme=dark] .colab-df-convert:hover {\n",
              "      background-color: #434B5C;\n",
              "      box-shadow: 0px 1px 3px 1px rgba(0, 0, 0, 0.15);\n",
              "      filter: drop-shadow(0px 1px 2px rgba(0, 0, 0, 0.3));\n",
              "      fill: #FFFFFF;\n",
              "    }\n",
              "  </style>\n",
              "\n",
              "      <script>\n",
              "        const buttonEl =\n",
              "          document.querySelector('#df-7771b10d-1718-482c-a5cf-053535e09d7c button.colab-df-convert');\n",
              "        buttonEl.style.display =\n",
              "          google.colab.kernel.accessAllowed ? 'block' : 'none';\n",
              "\n",
              "        async function convertToInteractive(key) {\n",
              "          const element = document.querySelector('#df-7771b10d-1718-482c-a5cf-053535e09d7c');\n",
              "          const dataTable =\n",
              "            await google.colab.kernel.invokeFunction('convertToInteractive',\n",
              "                                                     [key], {});\n",
              "          if (!dataTable) return;\n",
              "\n",
              "          const docLinkHtml = 'Like what you see? Visit the ' +\n",
              "            '<a target=\"_blank\" href=https://colab.research.google.com/notebooks/data_table.ipynb>data table notebook</a>'\n",
              "            + ' to learn more about interactive tables.';\n",
              "          element.innerHTML = '';\n",
              "          dataTable['output_type'] = 'display_data';\n",
              "          await google.colab.output.renderOutput(dataTable, element);\n",
              "          const docLink = document.createElement('div');\n",
              "          docLink.innerHTML = docLinkHtml;\n",
              "          element.appendChild(docLink);\n",
              "        }\n",
              "      </script>\n",
              "    </div>\n",
              "  </div>\n",
              "  "
            ],
            "text/plain": [
              "                      Humidity  Illuminance  Temperature\n",
              "2018-07-01 00:00:00  64.880000          0.0    28.837857\n",
              "2018-07-01 00:15:00  64.764000          0.0    28.798000\n",
              "2018-07-01 00:30:00  64.736000          0.0    28.803333\n",
              "2018-07-01 00:45:00  64.716667          0.0    28.855333\n",
              "2018-07-01 01:00:00  64.633333          0.0    28.854667"
            ]
          },
          "metadata": {},
          "execution_count": 30
        }
      ]
    },
    {
      "cell_type": "code",
      "source": [
        "ax = data1['2019-04-01 00:00':'2019-04-07 23:59'].plot(figsize=(10,5))\n",
        "ax.set_title('Humidity (%), Illuminance (Lux) and Temperature (deg C) plots')"
      ],
      "metadata": {
        "colab": {
          "base_uri": "https://localhost:8080/",
          "height": 376
        },
        "id": "8AV-TUCHUmeU",
        "outputId": "99333fa8-4f6e-440f-87e1-be7b4eeec594"
      },
      "execution_count": null,
      "outputs": [
        {
          "output_type": "execute_result",
          "data": {
            "text/plain": [
              "Text(0.5, 1.0, 'Humidity (%), Illuminance (Lux) and Temperature (deg C) plots')"
            ]
          },
          "metadata": {},
          "execution_count": 31
        },
        {
          "output_type": "display_data",
          "data": {
            "image/png": "[encoded data removed]",
            "text/plain": [
              "<Figure size 720x360 with 1 Axes>"
            ]
          },
          "metadata": {
            "needs_background": "light"
          }
        }
      ]
    },
    {
      "cell_type": "code",
      "source": [
        "# Data can be resampled into 1-hour intervals.\n",
        "data2=data.resample('60T').mean()\n",
        "data2.head(5)"
      ],
      "metadata": {
        "colab": {
          "base_uri": "https://localhost:8080/",
          "height": 206
        },
        "id": "SnQBJVMlU3S1",
        "outputId": "62280d7c-8852-4e90-fda8-d45ce05729f7"
      },
      "execution_count": null,
      "outputs": [
        {
          "output_type": "execute_result",
          "data": {
            "text/html": [
              "\n",
              "  <div id=\"df-0fd8ad37-8678-4432-9b54-4512d5e897a5\">\n",
              "    <div class=\"colab-df-container\">\n",
              "      <div>\n",
              "<style scoped>\n",
              "    .dataframe tbody tr th:only-of-type {\n",
              "        vertical-align: middle;\n",
              "    }\n",
              "\n",
              "    .dataframe tbody tr th {\n",
              "        vertical-align: top;\n",
              "    }\n",
              "\n",
              "    .dataframe thead th {\n",
              "        text-align: right;\n",
              "    }\n",
              "</style>\n",
              "<table border=\"1\" class=\"dataframe\">\n",
              "  <thead>\n",
              "    <tr style=\"text-align: right;\">\n",
              "      <th></th>\n",
              "      <th>Humidity</th>\n",
              "      <th>Illuminance</th>\n",
              "      <th>Temperature</th>\n",
              "    </tr>\n",
              "  </thead>\n",
              "  <tbody>\n",
              "    <tr>\n",
              "      <th>2018-07-01 00:00:00</th>\n",
              "      <td>64.772373</td>\n",
              "      <td>0.0</td>\n",
              "      <td>28.823390</td>\n",
              "    </tr>\n",
              "    <tr>\n",
              "      <th>2018-07-01 01:00:00</th>\n",
              "      <td>64.583333</td>\n",
              "      <td>0.0</td>\n",
              "      <td>28.873167</td>\n",
              "    </tr>\n",
              "    <tr>\n",
              "      <th>2018-07-01 02:00:00</th>\n",
              "      <td>64.507333</td>\n",
              "      <td>0.0</td>\n",
              "      <td>28.893333</td>\n",
              "    </tr>\n",
              "    <tr>\n",
              "      <th>2018-07-01 03:00:00</th>\n",
              "      <td>64.415167</td>\n",
              "      <td>0.0</td>\n",
              "      <td>28.897500</td>\n",
              "    </tr>\n",
              "    <tr>\n",
              "      <th>2018-07-01 04:00:00</th>\n",
              "      <td>64.171552</td>\n",
              "      <td>0.0</td>\n",
              "      <td>28.911552</td>\n",
              "    </tr>\n",
              "  </tbody>\n",
              "</table>\n",
              "</div>\n",
              "      <button class=\"colab-df-convert\" onclick=\"convertToInteractive('df-0fd8ad37-8678-4432-9b54-4512d5e897a5')\"\n",
              "              title=\"Convert this dataframe to an interactive table.\"\n",
              "              style=\"display:none;\">\n",
              "        \n",
              "  <svg xmlns=\"http://www.w3.org/2000/svg\" height=\"24px\"viewBox=\"0 0 24 24\"\n",
              "       width=\"24px\">\n",
              "    <path d=\"M0 0h24v24H0V0z\" fill=\"none\"/>\n",
              "    <path d=\"M18.56 5.44l.94 2.06.94-2.06 2.06-.94-2.06-.94-.94-2.06-.94 2.06-2.06.94zm-11 1L8.5 8.5l.94-2.06 2.06-.94-2.06-.94L8.5 2.5l-.94 2.06-2.06.94zm10 10l.94 2.06.94-2.06 2.06-.94-2.06-.94-.94-2.06-.94 2.06-2.06.94z\"/><path d=\"M17.41 7.96l-1.37-1.37c-.4-.4-.92-.59-1.43-.59-.52 0-1.04.2-1.43.59L10.3 9.45l-7.72 7.72c-.78.78-.78 2.05 0 2.83L4 21.41c.39.39.9.59 1.41.59.51 0 1.02-.2 1.41-.59l7.78-7.78 2.81-2.81c.8-.78.8-2.07 0-2.86zM5.41 20L4 18.59l7.72-7.72 1.47 1.35L5.41 20z\"/>\n",
              "  </svg>\n",
              "      </button>\n",
              "      \n",
              "  <style>\n",
              "    .colab-df-container {\n",
              "      display:flex;\n",
              "      flex-wrap:wrap;\n",
              "      gap: 12px;\n",
              "    }\n",
              "\n",
              "    .colab-df-convert {\n",
              "      background-color: #E8F0FE;\n",
              "      border: none;\n",
              "      border-radius: 50%;\n",
              "      cursor: pointer;\n",
              "      display: none;\n",
              "      fill: #1967D2;\n",
              "      height: 32px;\n",
              "      padding: 0 0 0 0;\n",
              "      width: 32px;\n",
              "    }\n",
              "\n",
              "    .colab-df-convert:hover {\n",
              "      background-color: #E2EBFA;\n",
              "      box-shadow: 0px 1px 2px rgba(60, 64, 67, 0.3), 0px 1px 3px 1px rgba(60, 64, 67, 0.15);\n",
              "      fill: #174EA6;\n",
              "    }\n",
              "\n",
              "    [theme=dark] .colab-df-convert {\n",
              "      background-color: #3B4455;\n",
              "      fill: #D2E3FC;\n",
              "    }\n",
              "\n",
              "    [theme=dark] .colab-df-convert:hover {\n",
              "      background-color: #434B5C;\n",
              "      box-shadow: 0px 1px 3px 1px rgba(0, 0, 0, 0.15);\n",
              "      filter: drop-shadow(0px 1px 2px rgba(0, 0, 0, 0.3));\n",
              "      fill: #FFFFFF;\n",
              "    }\n",
              "  </style>\n",
              "\n",
              "      <script>\n",
              "        const buttonEl =\n",
              "          document.querySelector('#df-0fd8ad37-8678-4432-9b54-4512d5e897a5 button.colab-df-convert');\n",
              "        buttonEl.style.display =\n",
              "          google.colab.kernel.accessAllowed ? 'block' : 'none';\n",
              "\n",
              "        async function convertToInteractive(key) {\n",
              "          const element = document.querySelector('#df-0fd8ad37-8678-4432-9b54-4512d5e897a5');\n",
              "          const dataTable =\n",
              "            await google.colab.kernel.invokeFunction('convertToInteractive',\n",
              "                                                     [key], {});\n",
              "          if (!dataTable) return;\n",
              "\n",
              "          const docLinkHtml = 'Like what you see? Visit the ' +\n",
              "            '<a target=\"_blank\" href=https://colab.research.google.com/notebooks/data_table.ipynb>data table notebook</a>'\n",
              "            + ' to learn more about interactive tables.';\n",
              "          element.innerHTML = '';\n",
              "          dataTable['output_type'] = 'display_data';\n",
              "          await google.colab.output.renderOutput(dataTable, element);\n",
              "          const docLink = document.createElement('div');\n",
              "          docLink.innerHTML = docLinkHtml;\n",
              "          element.appendChild(docLink);\n",
              "        }\n",
              "      </script>\n",
              "    </div>\n",
              "  </div>\n",
              "  "
            ],
            "text/plain": [
              "                      Humidity  Illuminance  Temperature\n",
              "2018-07-01 00:00:00  64.772373          0.0    28.823390\n",
              "2018-07-01 01:00:00  64.583333          0.0    28.873167\n",
              "2018-07-01 02:00:00  64.507333          0.0    28.893333\n",
              "2018-07-01 03:00:00  64.415167          0.0    28.897500\n",
              "2018-07-01 04:00:00  64.171552          0.0    28.911552"
            ]
          },
          "metadata": {},
          "execution_count": 32
        }
      ]
    },
    {
      "cell_type": "code",
      "source": [
        "ax = data2['2019-04-01 00:00':'2019-04-07 23:59'].plot(figsize=(10,5))\n",
        "ax.set_title('Humidity (%), Illuminance (Lux) and Temperature (deg C) plots')"
      ],
      "metadata": {
        "colab": {
          "base_uri": "https://localhost:8080/",
          "height": 376
        },
        "id": "SIvefJDXVCqd",
        "outputId": "49b478a7-bffd-4a4f-ab1e-927397de7294"
      },
      "execution_count": null,
      "outputs": [
        {
          "output_type": "execute_result",
          "data": {
            "text/plain": [
              "Text(0.5, 1.0, 'Humidity (%), Illuminance (Lux) and Temperature (deg C) plots')"
            ]
          },
          "metadata": {},
          "execution_count": 33
        },
        {
          "output_type": "display_data",
          "data": {
            "image/png": "[encoded data removed]",
            "text/plain": [
              "<Figure size 720x360 with 1 Axes>"
            ]
          },
          "metadata": {
            "needs_background": "light"
          }
        }
      ]
    },
    {
      "cell_type": "markdown",
      "source": [
        "# **6.0 Filter Specific Hours for Plotting**"
      ],
      "metadata": {
        "id": "b7YMnnXKVgdF"
      }
    },
    {
      "cell_type": "code",
      "source": [
        "data2=data[data.index.hour>=6]\n",
        "data2=data2[data2.index.hour<=18]\n",
        "data2.info()"
      ],
      "metadata": {
        "colab": {
          "base_uri": "https://localhost:8080/"
        },
        "id": "raSRoRbFVK_G",
        "outputId": "7404c01d-196c-4355-cb09-a3404bb042da"
      },
      "execution_count": null,
      "outputs": [
        {
          "output_type": "stream",
          "name": "stdout",
          "text": [
            "<class 'pandas.core.frame.DataFrame'>\n",
            "DatetimeIndex: 284700 entries, 2018-07-01 06:00:00 to 2019-06-30 18:59:00\n",
            "Data columns (total 3 columns):\n",
            " #   Column       Non-Null Count   Dtype  \n",
            "---  ------       --------------   -----  \n",
            " 0   Humidity     158461 non-null  float64\n",
            " 1   Illuminance  158461 non-null  float64\n",
            " 2   Temperature  158461 non-null  float64\n",
            "dtypes: float64(3)\n",
            "memory usage: 8.7 MB\n"
          ]
        }
      ]
    },
    {
      "cell_type": "code",
      "source": [
        "data2.tail(24)"
      ],
      "metadata": {
        "colab": {
          "base_uri": "https://localhost:8080/",
          "height": 802
        },
        "id": "LEQsHB88WGS3",
        "outputId": "9eb11a8e-5730-461d-8de3-2f502a0fc1e7"
      },
      "execution_count": null,
      "outputs": [
        {
          "output_type": "execute_result",
          "data": {
            "text/html": [
              "\n",
              "  <div id=\"df-a37eed6b-b54e-4c5e-84c4-9bc7df3eb74f\">\n",
              "    <div class=\"colab-df-container\">\n",
              "      <div>\n",
              "<style scoped>\n",
              "    .dataframe tbody tr th:only-of-type {\n",
              "        vertical-align: middle;\n",
              "    }\n",
              "\n",
              "    .dataframe tbody tr th {\n",
              "        vertical-align: top;\n",
              "    }\n",
              "\n",
              "    .dataframe thead th {\n",
              "        text-align: right;\n",
              "    }\n",
              "</style>\n",
              "<table border=\"1\" class=\"dataframe\">\n",
              "  <thead>\n",
              "    <tr style=\"text-align: right;\">\n",
              "      <th></th>\n",
              "      <th>Humidity</th>\n",
              "      <th>Illuminance</th>\n",
              "      <th>Temperature</th>\n",
              "    </tr>\n",
              "  </thead>\n",
              "  <tbody>\n",
              "    <tr>\n",
              "      <th>2019-06-30 18:36:00</th>\n",
              "      <td>60.37</td>\n",
              "      <td>0.0</td>\n",
              "      <td>27.43</td>\n",
              "    </tr>\n",
              "    <tr>\n",
              "      <th>2019-06-30 18:37:00</th>\n",
              "      <td>60.45</td>\n",
              "      <td>0.0</td>\n",
              "      <td>27.43</td>\n",
              "    </tr>\n",
              "    <tr>\n",
              "      <th>2019-06-30 18:38:00</th>\n",
              "      <td>60.48</td>\n",
              "      <td>0.0</td>\n",
              "      <td>27.44</td>\n",
              "    </tr>\n",
              "    <tr>\n",
              "      <th>2019-06-30 18:39:00</th>\n",
              "      <td>60.33</td>\n",
              "      <td>0.0</td>\n",
              "      <td>27.41</td>\n",
              "    </tr>\n",
              "    <tr>\n",
              "      <th>2019-06-30 18:40:00</th>\n",
              "      <td>61.80</td>\n",
              "      <td>0.0</td>\n",
              "      <td>27.43</td>\n",
              "    </tr>\n",
              "    <tr>\n",
              "      <th>2019-06-30 18:41:00</th>\n",
              "      <td>61.19</td>\n",
              "      <td>0.0</td>\n",
              "      <td>27.42</td>\n",
              "    </tr>\n",
              "    <tr>\n",
              "      <th>2019-06-30 18:42:00</th>\n",
              "      <td>60.87</td>\n",
              "      <td>0.0</td>\n",
              "      <td>27.43</td>\n",
              "    </tr>\n",
              "    <tr>\n",
              "      <th>2019-06-30 18:43:00</th>\n",
              "      <td>61.10</td>\n",
              "      <td>0.0</td>\n",
              "      <td>27.44</td>\n",
              "    </tr>\n",
              "    <tr>\n",
              "      <th>2019-06-30 18:44:00</th>\n",
              "      <td>60.85</td>\n",
              "      <td>0.0</td>\n",
              "      <td>27.42</td>\n",
              "    </tr>\n",
              "    <tr>\n",
              "      <th>2019-06-30 18:45:00</th>\n",
              "      <td>60.97</td>\n",
              "      <td>0.0</td>\n",
              "      <td>27.43</td>\n",
              "    </tr>\n",
              "    <tr>\n",
              "      <th>2019-06-30 18:46:00</th>\n",
              "      <td>60.93</td>\n",
              "      <td>0.0</td>\n",
              "      <td>27.45</td>\n",
              "    </tr>\n",
              "    <tr>\n",
              "      <th>2019-06-30 18:47:00</th>\n",
              "      <td>61.10</td>\n",
              "      <td>0.0</td>\n",
              "      <td>27.44</td>\n",
              "    </tr>\n",
              "    <tr>\n",
              "      <th>2019-06-30 18:48:00</th>\n",
              "      <td>61.11</td>\n",
              "      <td>0.0</td>\n",
              "      <td>27.44</td>\n",
              "    </tr>\n",
              "    <tr>\n",
              "      <th>2019-06-30 18:49:00</th>\n",
              "      <td>61.70</td>\n",
              "      <td>0.0</td>\n",
              "      <td>27.45</td>\n",
              "    </tr>\n",
              "    <tr>\n",
              "      <th>2019-06-30 18:50:00</th>\n",
              "      <td>61.70</td>\n",
              "      <td>0.0</td>\n",
              "      <td>27.44</td>\n",
              "    </tr>\n",
              "    <tr>\n",
              "      <th>2019-06-30 18:51:00</th>\n",
              "      <td>60.84</td>\n",
              "      <td>0.0</td>\n",
              "      <td>27.44</td>\n",
              "    </tr>\n",
              "    <tr>\n",
              "      <th>2019-06-30 18:52:00</th>\n",
              "      <td>60.82</td>\n",
              "      <td>0.0</td>\n",
              "      <td>27.43</td>\n",
              "    </tr>\n",
              "    <tr>\n",
              "      <th>2019-06-30 18:53:00</th>\n",
              "      <td>60.94</td>\n",
              "      <td>0.0</td>\n",
              "      <td>27.43</td>\n",
              "    </tr>\n",
              "    <tr>\n",
              "      <th>2019-06-30 18:54:00</th>\n",
              "      <td>60.89</td>\n",
              "      <td>0.0</td>\n",
              "      <td>27.40</td>\n",
              "    </tr>\n",
              "    <tr>\n",
              "      <th>2019-06-30 18:55:00</th>\n",
              "      <td>60.91</td>\n",
              "      <td>0.0</td>\n",
              "      <td>27.41</td>\n",
              "    </tr>\n",
              "    <tr>\n",
              "      <th>2019-06-30 18:56:00</th>\n",
              "      <td>60.93</td>\n",
              "      <td>0.0</td>\n",
              "      <td>27.40</td>\n",
              "    </tr>\n",
              "    <tr>\n",
              "      <th>2019-06-30 18:57:00</th>\n",
              "      <td>61.70</td>\n",
              "      <td>0.0</td>\n",
              "      <td>27.40</td>\n",
              "    </tr>\n",
              "    <tr>\n",
              "      <th>2019-06-30 18:58:00</th>\n",
              "      <td>60.92</td>\n",
              "      <td>0.0</td>\n",
              "      <td>27.40</td>\n",
              "    </tr>\n",
              "    <tr>\n",
              "      <th>2019-06-30 18:59:00</th>\n",
              "      <td>61.10</td>\n",
              "      <td>0.0</td>\n",
              "      <td>27.40</td>\n",
              "    </tr>\n",
              "  </tbody>\n",
              "</table>\n",
              "</div>\n",
              "      <button class=\"colab-df-convert\" onclick=\"convertToInteractive('df-a37eed6b-b54e-4c5e-84c4-9bc7df3eb74f')\"\n",
              "              title=\"Convert this dataframe to an interactive table.\"\n",
              "              style=\"display:none;\">\n",
              "        \n",
              "  <svg xmlns=\"http://www.w3.org/2000/svg\" height=\"24px\"viewBox=\"0 0 24 24\"\n",
              "       width=\"24px\">\n",
              "    <path d=\"M0 0h24v24H0V0z\" fill=\"none\"/>\n",
              "    <path d=\"M18.56 5.44l.94 2.06.94-2.06 2.06-.94-2.06-.94-.94-2.06-.94 2.06-2.06.94zm-11 1L8.5 8.5l.94-2.06 2.06-.94-2.06-.94L8.5 2.5l-.94 2.06-2.06.94zm10 10l.94 2.06.94-2.06 2.06-.94-2.06-.94-.94-2.06-.94 2.06-2.06.94z\"/><path d=\"M17.41 7.96l-1.37-1.37c-.4-.4-.92-.59-1.43-.59-.52 0-1.04.2-1.43.59L10.3 9.45l-7.72 7.72c-.78.78-.78 2.05 0 2.83L4 21.41c.39.39.9.59 1.41.59.51 0 1.02-.2 1.41-.59l7.78-7.78 2.81-2.81c.8-.78.8-2.07 0-2.86zM5.41 20L4 18.59l7.72-7.72 1.47 1.35L5.41 20z\"/>\n",
              "  </svg>\n",
              "      </button>\n",
              "      \n",
              "  <style>\n",
              "    .colab-df-container {\n",
              "      display:flex;\n",
              "      flex-wrap:wrap;\n",
              "      gap: 12px;\n",
              "    }\n",
              "\n",
              "    .colab-df-convert {\n",
              "      background-color: #E8F0FE;\n",
              "      border: none;\n",
              "      border-radius: 50%;\n",
              "      cursor: pointer;\n",
              "      display: none;\n",
              "      fill: #1967D2;\n",
              "      height: 32px;\n",
              "      padding: 0 0 0 0;\n",
              "      width: 32px;\n",
              "    }\n",
              "\n",
              "    .colab-df-convert:hover {\n",
              "      background-color: #E2EBFA;\n",
              "      box-shadow: 0px 1px 2px rgba(60, 64, 67, 0.3), 0px 1px 3px 1px rgba(60, 64, 67, 0.15);\n",
              "      fill: #174EA6;\n",
              "    }\n",
              "\n",
              "    [theme=dark] .colab-df-convert {\n",
              "      background-color: #3B4455;\n",
              "      fill: #D2E3FC;\n",
              "    }\n",
              "\n",
              "    [theme=dark] .colab-df-convert:hover {\n",
              "      background-color: #434B5C;\n",
              "      box-shadow: 0px 1px 3px 1px rgba(0, 0, 0, 0.15);\n",
              "      filter: drop-shadow(0px 1px 2px rgba(0, 0, 0, 0.3));\n",
              "      fill: #FFFFFF;\n",
              "    }\n",
              "  </style>\n",
              "\n",
              "      <script>\n",
              "        const buttonEl =\n",
              "          document.querySelector('#df-a37eed6b-b54e-4c5e-84c4-9bc7df3eb74f button.colab-df-convert');\n",
              "        buttonEl.style.display =\n",
              "          google.colab.kernel.accessAllowed ? 'block' : 'none';\n",
              "\n",
              "        async function convertToInteractive(key) {\n",
              "          const element = document.querySelector('#df-a37eed6b-b54e-4c5e-84c4-9bc7df3eb74f');\n",
              "          const dataTable =\n",
              "            await google.colab.kernel.invokeFunction('convertToInteractive',\n",
              "                                                     [key], {});\n",
              "          if (!dataTable) return;\n",
              "\n",
              "          const docLinkHtml = 'Like what you see? Visit the ' +\n",
              "            '<a target=\"_blank\" href=https://colab.research.google.com/notebooks/data_table.ipynb>data table notebook</a>'\n",
              "            + ' to learn more about interactive tables.';\n",
              "          element.innerHTML = '';\n",
              "          dataTable['output_type'] = 'display_data';\n",
              "          await google.colab.output.renderOutput(dataTable, element);\n",
              "          const docLink = document.createElement('div');\n",
              "          docLink.innerHTML = docLinkHtml;\n",
              "          element.appendChild(docLink);\n",
              "        }\n",
              "      </script>\n",
              "    </div>\n",
              "  </div>\n",
              "  "
            ],
            "text/plain": [
              "                     Humidity  Illuminance  Temperature\n",
              "2019-06-30 18:36:00     60.37          0.0        27.43\n",
              "2019-06-30 18:37:00     60.45          0.0        27.43\n",
              "2019-06-30 18:38:00     60.48          0.0        27.44\n",
              "2019-06-30 18:39:00     60.33          0.0        27.41\n",
              "2019-06-30 18:40:00     61.80          0.0        27.43\n",
              "2019-06-30 18:41:00     61.19          0.0        27.42\n",
              "2019-06-30 18:42:00     60.87          0.0        27.43\n",
              "2019-06-30 18:43:00     61.10          0.0        27.44\n",
              "2019-06-30 18:44:00     60.85          0.0        27.42\n",
              "2019-06-30 18:45:00     60.97          0.0        27.43\n",
              "2019-06-30 18:46:00     60.93          0.0        27.45\n",
              "2019-06-30 18:47:00     61.10          0.0        27.44\n",
              "2019-06-30 18:48:00     61.11          0.0        27.44\n",
              "2019-06-30 18:49:00     61.70          0.0        27.45\n",
              "2019-06-30 18:50:00     61.70          0.0        27.44\n",
              "2019-06-30 18:51:00     60.84          0.0        27.44\n",
              "2019-06-30 18:52:00     60.82          0.0        27.43\n",
              "2019-06-30 18:53:00     60.94          0.0        27.43\n",
              "2019-06-30 18:54:00     60.89          0.0        27.40\n",
              "2019-06-30 18:55:00     60.91          0.0        27.41\n",
              "2019-06-30 18:56:00     60.93          0.0        27.40\n",
              "2019-06-30 18:57:00     61.70          0.0        27.40\n",
              "2019-06-30 18:58:00     60.92          0.0        27.40\n",
              "2019-06-30 18:59:00     61.10          0.0        27.40"
            ]
          },
          "metadata": {},
          "execution_count": 35
        }
      ]
    },
    {
      "cell_type": "code",
      "source": [
        "ax = data2['2019-04-01 00:00':'2019-04-01 23:59'].plot(figsize=(10,5))\n",
        "ax.set_title('Humidity (%), Illuminance (Lux) and Temperature (deg C) plots')"
      ],
      "metadata": {
        "colab": {
          "base_uri": "https://localhost:8080/",
          "height": 353
        },
        "id": "yqoRnI2IWKUO",
        "outputId": "ff6dd506-8a10-4621-9913-804802bffa67"
      },
      "execution_count": null,
      "outputs": [
        {
          "output_type": "execute_result",
          "data": {
            "text/plain": [
              "Text(0.5, 1.0, 'Humidity (%), Illuminance (Lux) and Temperature (deg C) plots')"
            ]
          },
          "metadata": {},
          "execution_count": 36
        },
        {
          "output_type": "display_data",
          "data": {
            "image/png": "[encoded data removed]",
            "text/plain": [
              "<Figure size 720x360 with 1 Axes>"
            ]
          },
          "metadata": {
            "needs_background": "light"
          }
        }
      ]
    },
    {
      "cell_type": "code",
      "source": [
        "data2.Illuminance.hist(bins=20)"
      ],
      "metadata": {
        "colab": {
          "base_uri": "https://localhost:8080/",
          "height": 282
        },
        "id": "PWnPjTjXWUKH",
        "outputId": "9378c9d7-7875-41a4-bfbf-ebc3af2add23"
      },
      "execution_count": null,
      "outputs": [
        {
          "output_type": "execute_result",
          "data": {
            "text/plain": [
              "<matplotlib.axes._subplots.AxesSubplot at 0x7f18fe7fad90>"
            ]
          },
          "metadata": {},
          "execution_count": 37
        },
        {
          "output_type": "display_data",
          "data": {
            "image/png": "[encoded data removed]",
            "text/plain": [
              "<Figure size 432x288 with 1 Axes>"
            ]
          },
          "metadata": {
            "needs_background": "light"
          }
        }
      ]
    },
    {
      "cell_type": "code",
      "source": [
        "data1.Illuminance.hist(bins=20)"
      ],
      "metadata": {
        "colab": {
          "base_uri": "https://localhost:8080/",
          "height": 282
        },
        "id": "xzLm9WGBXh3w",
        "outputId": "ebf41281-7253-45f4-c9f5-b57595342543"
      },
      "execution_count": null,
      "outputs": [
        {
          "output_type": "execute_result",
          "data": {
            "text/plain": [
              "<matplotlib.axes._subplots.AxesSubplot at 0x7f18fe7b30d0>"
            ]
          },
          "metadata": {},
          "execution_count": 38
        },
        {
          "output_type": "display_data",
          "data": {
            "image/png": "[encoded data removed]",
            "text/plain": [
              "<Figure size 432x288 with 1 Axes>"
            ]
          },
          "metadata": {
            "needs_background": "light"
          }
        }
      ]
    },
    {
      "cell_type": "code",
      "source": [
        ""
      ],
      "metadata": {
        "id": "C2XnHw1qXsyP"
      },
      "execution_count": null,
      "outputs": []
    }
  ]
}
